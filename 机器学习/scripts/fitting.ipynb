{
 "cells": [
  {
   "cell_type": "markdown",
   "metadata": {},
   "source": [
    "### 1、训练误差与测试误差"
   ]
  },
  {
   "cell_type": "code",
   "execution_count": 201,
   "metadata": {},
   "outputs": [
    {
     "name": "stdout",
     "output_type": "stream",
     "text": [
      "训练正确率: 0.9647887323943662\n",
      "测试正确率: 0.9473684210526315\n"
     ]
    }
   ],
   "source": [
    "from sklearn.datasets import load_breast_cancer\n",
    "from sklearn.model_selection import train_test_split\n",
    "from sklearn.linear_model import LogisticRegression\n",
    "from sklearn.metrics import accuracy_score\n",
    "\n",
    "#print(load_breast_cancer().DESCR)\n",
    "# X为数据的特征，y为数据的标签\n",
    "X, y = load_breast_cancer(return_X_y=True)\n",
    "X_train, X_test, y_train, y_test = train_test_split(X, y, test_size=0.5)\n",
    "\n",
    "# 训练与测试\n",
    "clf = LogisticRegression().fit(X_train, y_train)\n",
    "y_pred_train = clf.predict(X_train)\n",
    "y_pred_test = clf.predict(X_test)\n",
    "\n",
    "# 对比\n",
    "train_accuracy = accuracy_score(y_train,y_pred_train)\n",
    "print(\"训练正确率:\",train_accuracy)\n",
    "test_accuracy = accuracy_score(y_test,y_pred_test)\n",
    "print(\"测试正确率:\",test_accuracy)"
   ]
  },
  {
   "cell_type": "code",
   "execution_count": 128,
   "metadata": {},
   "outputs": [
    {
     "name": "stdout",
     "output_type": "stream",
     "text": [
      "训练集MSE: 21.404064817399522\n",
      "测试集MSE: 23.466806135253098\n"
     ]
    }
   ],
   "source": [
    "from sklearn.datasets import load_boston\n",
    "from sklearn.linear_model import LinearRegression\n",
    "import matplotlib.pyplot as plt\n",
    "from sklearn import metrics\n",
    "\n",
    "dataset = load_boston()\n",
    "#print(dataset.DESCR)\n",
    "\n",
    "# X为数据的特征，y为数据的标签\n",
    "X,y = dataset.data,dataset.target\n",
    "X_train, X_test, y_train, y_test = train_test_split(X, y, test_size=0.4)\n",
    "\n",
    "reg = LinearRegression().fit(X_train,y_train)\n",
    "y_pred_train = reg.predict(X_train)\n",
    "y_pred_test = reg.predict(X_test)\n",
    "MSE_train = metrics.mean_squared_error(y_train,y_pred_train)\n",
    "MSE_test = metrics.mean_squared_error(y_test,y_pred_test)\n",
    "print(\"训练集MSE:\",MSE_train)\n",
    "print(\"测试集MSE:\",MSE_test)"
   ]
  },
  {
   "cell_type": "markdown",
   "metadata": {},
   "source": [
    "### 2、欠拟合"
   ]
  },
  {
   "cell_type": "code",
   "execution_count": 79,
   "metadata": {},
   "outputs": [
    {
     "name": "stdout",
     "output_type": "stream",
     "text": [
      "训练正确率: 0.8556338028169014\n",
      "测试正确率: 0.8526315789473684\n"
     ]
    }
   ],
   "source": [
    "#只迭代一次\n",
    "\n",
    "X, y = load_breast_cancer(return_X_y=True)\n",
    "X_train, X_test, y_train, y_test = train_test_split(X, y, test_size=0.5)\n",
    "\n",
    "# 训练与测试\n",
    "clf = LogisticRegression(max_iter=1).fit(X_train, y_train)\n",
    "y_pred_train = clf.predict(X_train)\n",
    "y_pred_test = clf.predict(X_test)\n",
    "\n",
    "# 对比\n",
    "train_accuracy = accuracy_score(y_train,y_pred_train)\n",
    "print(\"训练正确率:\",train_accuracy)\n",
    "test_accuracy = accuracy_score(y_test,y_pred_test)\n",
    "print(\"测试正确率:\",test_accuracy)"
   ]
  },
  {
   "cell_type": "code",
   "execution_count": 127,
   "metadata": {},
   "outputs": [
    {
     "name": "stdout",
     "output_type": "stream",
     "text": [
      "训练集MSE: 37.8258787979778\n",
      "测试集MSE: 53.68557516915286\n"
     ]
    }
   ],
   "source": [
    "#只取一个特征\n",
    "\n",
    "dataset = load_boston()\n",
    "#print(dataset.DESCR)\n",
    "\n",
    "# X为数据的特征，y为数据的标签\n",
    "X,y = dataset.data[:,5:6],dataset.target\n",
    "X_train, X_test, y_train, y_test = train_test_split(X, y, test_size=0.4)\n",
    "\n",
    "reg = LinearRegression().fit(X_train,y_train)\n",
    "y_pred_train = reg.predict(X_train)\n",
    "y_pred_test = reg.predict(X_test)\n",
    "MSE_train = metrics.mean_squared_error(y_train,y_pred_train)\n",
    "MSE_test = metrics.mean_squared_error(y_test,y_pred_test)\n",
    "print(\"训练集MSE:\",MSE_train)\n",
    "print(\"测试集MSE:\",MSE_test)"
   ]
  },
  {
   "cell_type": "code",
   "execution_count": 134,
   "metadata": {},
   "outputs": [
    {
     "data": {
      "image/png": "[encoded data removed]",
      "text/plain": [
       "<matplotlib.figure.Figure at 0x1f6471a8e48>"
      ]
     },
     "metadata": {},
     "output_type": "display_data"
    }
   ],
   "source": [
    "import numpy as np\n",
    "import matplotlib.pyplot as plt\n",
    "\n",
    "np.random.seed(666)\n",
    "x = np.random.uniform(-3.0, 3.0, size=30)\n",
    "X = x.reshape(-1, 1)\n",
    "y = 0.5 * x**2 + x + 2 + np.random.normal(0, 1, size=30)\n",
    "\n",
    "lin_reg = LinearRegression()\n",
    "lin_reg.fit(X, y)\n",
    "y_predict = lin_reg.predict(X)\n",
    "plt.scatter(x, y)\n",
    "plt.plot(np.sort(x), y_predict[np.argsort(x)], color='r')\n",
    "\n",
    "plt.show()"
   ]
  },
  {
   "cell_type": "markdown",
   "metadata": {},
   "source": [
    "### 3、过拟合"
   ]
  },
  {
   "cell_type": "code",
   "execution_count": 221,
   "metadata": {},
   "outputs": [
    {
     "name": "stdout",
     "output_type": "stream",
     "text": [
      "训练正确率: 1.0\n",
      "测试正确率: 0.9122807017543859\n"
     ]
    }
   ],
   "source": [
    "#使用最近邻，训练集分类准确率100%\n",
    "\n",
    "from sklearn.neighbors import KNeighborsClassifier\n",
    "X, y = load_breast_cancer(return_X_y=True)\n",
    "X_train, X_test, y_train, y_test = train_test_split(X, y, test_size=0.5)\n",
    "\n",
    "# 训练与测试\n",
    "clf = KNeighborsClassifier(n_neighbors=1).fit(X_train, y_train)\n",
    "y_pred_train = clf.predict(X_train)\n",
    "y_pred_test = clf.predict(X_test)\n",
    "\n",
    "# 对比\n",
    "train_accuracy = accuracy_score(y_train,y_pred_train)\n",
    "print(\"训练正确率:\",train_accuracy)\n",
    "test_accuracy = accuracy_score(y_test,y_pred_test)\n",
    "print(\"测试正确率:\",test_accuracy)"
   ]
  },
  {
   "cell_type": "code",
   "execution_count": 223,
   "metadata": {},
   "outputs": [
    {
     "name": "stdout",
     "output_type": "stream",
     "text": [
      "训练集MSE: 1.3937947526190342e-21\n",
      "测试集MSE: 6934.307389365343\n"
     ]
    }
   ],
   "source": [
    "# 使用高次回归，训练集误差很小，测试集误差很大\n",
    "from sklearn.preprocessing import PolynomialFeatures\n",
    "dataset = load_boston()\n",
    "#print(dataset.DESCR)\n",
    "\n",
    "# X为数据的特征，y为数据的标签\n",
    "X,y = dataset.data,dataset.target\n",
    "X = PolynomialFeatures(degree=5,interaction_only=True).fit_transform(X)\n",
    "X_train, X_test, y_train, y_test = train_test_split(X, y, test_size=0.4)\n",
    "\n",
    "reg = LinearRegression().fit(X_train,y_train)\n",
    "y_pred_train = reg.predict(X_train)\n",
    "y_pred_test = reg.predict(X_test)\n",
    "MSE_train = metrics.mean_squared_error(y_train,y_pred_train)\n",
    "MSE_test = metrics.mean_squared_error(y_test,y_pred_test)\n",
    "print(\"训练集MSE:\",MSE_train)\n",
    "print(\"测试集MSE:\",MSE_test)"
   ]
  },
  {
   "cell_type": "code",
   "execution_count": 262,
   "metadata": {},
   "outputs": [
    {
     "data": {
      "image/png": "[encoded data removed]",
      "text/plain": [
       "<matplotlib.figure.Figure at 0x1f647751ba8>"
      ]
     },
     "metadata": {},
     "output_type": "display_data"
    }
   ],
   "source": [
    "from sklearn.pipeline import Pipeline\n",
    "import numpy as np\n",
    "import matplotlib.pyplot as plt\n",
    "\n",
    "np.random.seed(666)\n",
    "x = np.random.uniform(-3.0, 3.0, size=30)\n",
    "X = x.reshape(-1, 1)\n",
    "y = 0.5 * x**2 + x + 2 + np.random.normal(0, 1, size=30)\n",
    "\n",
    "def PolynomialRegression(degree):\n",
    "    return Pipeline([\n",
    "        (\"poly\", PolynomialFeatures(degree=degree)),\n",
    "        (\"lin_reg\", LinearRegression())])\n",
    "\n",
    "lin_reg = PolynomialRegression(18)\n",
    "lin_reg.fit(X, y)\n",
    "plt.scatter(x, y)\n",
    "curve= np.arange(-3,3,0.05).reshape(-1,1)\n",
    "plt.plot(curve,lin_reg.predict(curve),color='r')\n",
    "\n",
    "plt.show()"
   ]
  },
  {
   "cell_type": "markdown",
   "metadata": {},
   "source": [
    "### 4、拟合适当"
   ]
  },
  {
   "cell_type": "code",
   "execution_count": 257,
   "metadata": {},
   "outputs": [
    {
     "name": "stdout",
     "output_type": "stream",
     "text": [
      "训练正确率: 0.9330985915492958\n",
      "测试正确率: 0.9368421052631579\n"
     ]
    }
   ],
   "source": [
    "#使用前5最近邻\n",
    "\n",
    "from sklearn.neighbors import KNeighborsClassifier\n",
    "X, y = load_breast_cancer(return_X_y=True)\n",
    "X_train, X_test, y_train, y_test = train_test_split(X, y, test_size=0.5)\n",
    "\n",
    "# 训练与测试\n",
    "clf = KNeighborsClassifier(n_neighbors=5).fit(X_train, y_train)\n",
    "y_pred_train = clf.predict(X_train)\n",
    "y_pred_test = clf.predict(X_test)\n",
    "\n",
    "# 对比\n",
    "train_accuracy = accuracy_score(y_train,y_pred_train)\n",
    "print(\"训练正确率:\",train_accuracy)\n",
    "test_accuracy = accuracy_score(y_test,y_pred_test)\n",
    "print(\"测试正确率:\",test_accuracy)"
   ]
  },
  {
   "cell_type": "code",
   "execution_count": 260,
   "metadata": {},
   "outputs": [
    {
     "name": "stdout",
     "output_type": "stream",
     "text": [
      "训练集MSE: 5.332131909458024\n",
      "测试集MSE: 18.890466134493657\n"
     ]
    }
   ],
   "source": [
    "# 使用2次回归\n",
    "from sklearn.preprocessing import PolynomialFeatures\n",
    "dataset = load_boston()\n",
    "#print(dataset.DESCR)\n",
    "\n",
    "# X为数据的特征，y为数据的标签\n",
    "X,y = dataset.data,dataset.target\n",
    "X = PolynomialFeatures(degree=2,interaction_only=True).fit_transform(X)\n",
    "X_train, X_test, y_train, y_test = train_test_split(X, y, test_size=0.4)\n",
    "\n",
    "reg = LinearRegression().fit(X_train,y_train)\n",
    "y_pred_train = reg.predict(X_train)\n",
    "y_pred_test = reg.predict(X_test)\n",
    "MSE_train = metrics.mean_squared_error(y_train,y_pred_train)\n",
    "MSE_test = metrics.mean_squared_error(y_test,y_pred_test)\n",
    "print(\"训练集MSE:\",MSE_train)\n",
    "print(\"测试集MSE:\",MSE_test)"
   ]
  },
  {
   "cell_type": "code",
   "execution_count": 264,
   "metadata": {},
   "outputs": [
    {
     "data": {
      "image/png": "[encoded data removed]",
      "text/plain": [
       "<matplotlib.figure.Figure at 0x1f6453883c8>"
      ]
     },
     "metadata": {},
     "output_type": "display_data"
    }
   ],
   "source": [
    "from sklearn.pipeline import Pipeline\n",
    "import numpy as np\n",
    "import matplotlib.pyplot as plt\n",
    "\n",
    "np.random.seed(666)\n",
    "x = np.random.uniform(-3.0, 3.0, size=30)\n",
    "X = x.reshape(-1, 1)\n",
    "y = 0.5 * x**2 + x + 2 + np.random.normal(0, 1, size=30)\n",
    "\n",
    "def PolynomialRegression(degree):\n",
    "    return Pipeline([\n",
    "        (\"poly\", PolynomialFeatures(degree=degree)),\n",
    "        (\"lin_reg\", LinearRegression())])\n",
    "\n",
    "lin_reg = PolynomialRegression(2)\n",
    "lin_reg.fit(X, y)\n",
    "plt.scatter(x, y)\n",
    "curve= np.arange(-3,3,0.05).reshape(-1,1)\n",
    "plt.plot(curve,lin_reg.predict(curve),color='r')\n",
    "\n",
    "plt.show()"
   ]
  }
 ],
 "metadata": {
  "kernelspec": {
   "display_name": "Python 3",
   "language": "python",
   "name": "python3"
  },
  "language_info": {
   "codemirror_mode": {
    "name": "ipython",
    "version": 3
   },
   "file_extension": ".py",
   "mimetype": "text/x-python",
   "name": "python",
   "nbconvert_exporter": "python",
   "pygments_lexer": "ipython3",
   "version": "3.8.8"
  }
 },
 "nbformat": 4,
 "nbformat_minor": 2
}
