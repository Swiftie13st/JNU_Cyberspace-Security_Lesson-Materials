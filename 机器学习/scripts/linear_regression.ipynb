{
 "cells": [
  {
   "cell_type": "markdown",
   "metadata": {},
   "source": [
    "# 线性回归\n",
    "\n",
    "线性回归(Linear regression)是利用回归方程(函数)对一个或多个自变量(特征值)和因变量(目标值)之间关系进行建模的一种分析方式。\n",
    "\n",
    "特点：只有一个自变量的情况称为单变量回归，大于一个自变量情况的叫做多元回归"
   ]
  },
  {
   "cell_type": "markdown",
   "metadata": {},
   "source": [
    "## 1. 最小二乘代数法解法\n",
    "\n",
    "使$J$最小，方法就是对$\\theta_0$和$\\theta_1$分别来求偏导数，令偏导数为0，得到一个关于$\\theta_0$和$\\theta_1$的二元方程组。求解这个二元方程组，就可以得到$\\theta_0$和$\\theta_1$的值。\n",
    "\n",
    "$\\theta_0 = \\sum\\limits_{i=1}^{m}\\big(x^{(i)})^2\\sum\\limits_{i=1}^{m}y^{(i)} - \\sum\\limits_{i=1}^{m}x^{(i)}\\sum\\limits_{i=1}^{m}x^{(i)}y^{(i)} \\Bigg/ m\\sum\\limits_{i=1}^{m}\\big(x^{(i)})^2 - \\big(\\sum\\limits_{i=1}^{m}x^{(i)})^2$\n",
    "\n",
    "$\\theta_1 = m\\sum\\limits_{i=1}^{m}x^{(i)}y^{(i)} - \\sum\\limits_{i=1}^{m}x^{(i)}\\sum\\limits_{i=1}^{m}y^{(i)} \\Bigg/ m\\sum\\limits_{i=1}^{m}\\big(x^{(i)})^2 - \\big(\\sum\\limits_{i=1}^{m}x^{(i)})^2$"
   ]
  },
  {
   "cell_type": "code",
   "execution_count": 64,
   "metadata": {},
   "outputs": [
    {
     "data": {
      "image/png": "[encoded data removed]",
      "text/plain": [
       "<matplotlib.figure.Figure at 0x24d9cb96c50>"
      ]
     },
     "metadata": {},
     "output_type": "display_data"
    }
   ],
   "source": [
    "import numpy as np\n",
    "import matplotlib.pyplot as plt\n",
    "\n",
    "X = np.array([[1.], [2.], [3.], [4.], [5.]])\n",
    "y = np.array([1., 3., 2., 3., 5.])\n",
    "\n",
    "plt.scatter(X, y)\n",
    "plt.axis([0, 6, 0, 6])\n",
    "plt.show()"
   ]
  },
  {
   "cell_type": "code",
   "execution_count": 66,
   "metadata": {},
   "outputs": [
    {
     "name": "stdout",
     "output_type": "stream",
     "text": [
      "theta_1: 0.8000000000000007\n",
      "theta_0: 0.3999999999999977\n",
      "回归模型为：y=0.8000000000000007x+0.3999999999999977\n"
     ]
    }
   ],
   "source": [
    "X_mean = np.mean(X)\n",
    "y_mean = np.mean(y)\n",
    "\n",
    "theta_1 = (np.mean(X.T*y)-X_mean*y_mean)/(np.mean(X**2) - X_mean**2)\n",
    "theta_0 = y_mean - theta_1*X_mean\n",
    "\n",
    "print(\"theta_1:\",theta_1)\n",
    "print(\"theta_0:\",theta_0)\n",
    "print(\"回归模型为：y=\"+str(theta_1)+\"x+\"+str(theta_0))"
   ]
  },
  {
   "cell_type": "code",
   "execution_count": 105,
   "metadata": {},
   "outputs": [
    {
     "data": {
      "image/png": "[encoded data removed]",
      "text/plain": [
       "<matplotlib.figure.Figure at 0x24d9cf9c588>"
      ]
     },
     "metadata": {},
     "output_type": "display_data"
    }
   ],
   "source": [
    "X_line = np.linspace(0,6,7)\n",
    "y_line = theta_1 * X_line + theta_0\n",
    "\n",
    "plt.scatter(X, y)\n",
    "plt.plot(X_line, y_line, color='r')\n",
    "plt.axis([0, 6, 0, 6])\n",
    "plt.show()"
   ]
  },
  {
   "cell_type": "markdown",
   "metadata": {},
   "source": [
    "## 2. 最小二乘矩阵法解法\n",
    "\n",
    "损失函数定义为$J(\\mathbf\\theta) = \\frac{1}{2}(\\mathbf{X\\theta} - \\mathbf{Y})^T(\\mathbf{X\\theta} - \\mathbf{Y})$\n",
    "\n",
    "根据最小二乘法的原理，我们要对这个损失函数对$\\theta$向量求导取0。结果如下式：\n",
    "\n",
    "$\\frac{\\partial}{\\partial\\mathbf\\theta}J(\\mathbf\\theta) = \\mathbf{X}^T(\\mathbf{X\\theta} - \\mathbf{Y}) = 0$\n",
    "\n",
    "对上述求导等式整理后可得：\n",
    "\n",
    "$\\mathbf{X^{T}X\\theta} = \\mathbf{X^{T}Y}$\n",
    "\n",
    "两边同时左乘$(\\mathbf{X^{T}X})^{-1}$，可得：\n",
    "\n",
    "$\\mathbf{\\theta} = (\\mathbf{X^{T}X})^{-1}\\mathbf{X^{T}Y}$"
   ]
  },
  {
   "cell_type": "code",
   "execution_count": 106,
   "metadata": {},
   "outputs": [
    {
     "name": "stdout",
     "output_type": "stream",
     "text": [
      "[0.8 0.4]\n",
      "theta_1: 0.8000000000000007\n",
      "theta_0: 0.3999999999999977\n",
      "回归模型为：y=0.8000000000000007x+0.3999999999999977\n"
     ]
    }
   ],
   "source": [
    "X = np.array([[1.], [2.], [3.], [4.], [5.]])\n",
    "y = np.array([1., 3., 2., 3., 5.])\n",
    "\n",
    "X = np.hstack((X,np.ones((len(X),1))))\n",
    "theta = np.linalg.inv(np.dot(X.T,X))\n",
    "theta = np.dot(np.dot(theta,X.T),y)\n",
    "print(theta)\n",
    "\n",
    "print(\"theta_1:\",theta_1)\n",
    "print(\"theta_0:\",theta_0)\n",
    "print(\"回归模型为：y=\"+str(theta_1)+\"x+\"+str(theta_0))"
   ]
  },
  {
   "cell_type": "markdown",
   "metadata": {},
   "source": [
    "## 3、最小二乘法封装成类使用"
   ]
  },
  {
   "cell_type": "code",
   "execution_count": 253,
   "metadata": {},
   "outputs": [],
   "source": [
    "class SimpleLinearRegression:\n",
    "\n",
    "    def __init__(self):\n",
    "        self.theta = None\n",
    "\n",
    "    def fit(self, x_train, y_train):\n",
    "        x_train = np.hstack((x_train, np.ones((len(x_train),1))))\n",
    "        theta = np.linalg.inv(np.dot(x_train.T,x_train))\n",
    "        self.theta = np.dot(np.dot(theta,x_train.T),y_train)\n",
    "\n",
    "    def predict(self, x_predict):\n",
    "        x_predict = np.hstack((x_predict,np.ones((len(x_predict),1))))\n",
    "        return np.dot(x_predict,self.theta)"
   ]
  },
  {
   "cell_type": "code",
   "execution_count": 236,
   "metadata": {},
   "outputs": [
    {
     "name": "stdout",
     "output_type": "stream",
     "text": [
      "[0.79978115 0.40079013]\n"
     ]
    },
    {
     "data": {
      "image/png": "[encoded data removed]",
      "text/plain": [
       "<matplotlib.figure.Figure at 0x24d9c940f60>"
      ]
     },
     "metadata": {},
     "output_type": "display_data"
    }
   ],
   "source": [
    "X = np.array([[1.], [2.], [3.], [4.], [5.]])\n",
    "y = np.array([1., 3., 2., 3., 5.])\n",
    "\n",
    "reg1 = SimpleLinearRegression()\n",
    "reg1.fit(X, y)\n",
    "print(reg1.theta)\n",
    "\n",
    "X_line = np.linspace(0,6,7).reshape(-1,1)\n",
    "plt.scatter(X, y)\n",
    "plt.plot(X_line, reg1.predict(X_line), color='r')\n",
    "plt.axis([0, 6, 0, 6])\n",
    "plt.show()"
   ]
  },
  {
   "cell_type": "code",
   "execution_count": 260,
   "metadata": {},
   "outputs": [
    {
     "name": "stdout",
     "output_type": "stream",
     "text": [
      "[-1.17735289e-01  4.40174969e-02 -5.76814314e-03  2.39341594e+00\n",
      " -1.55894211e+01  3.76896770e+00 -7.03517828e-03 -1.43495641e+00\n",
      "  2.40081086e-01 -1.12972810e-02 -9.85546732e-01  8.44443453e-03\n",
      " -4.99116797e-01  3.69332555e+01]\n",
      "测试集MSE: 29.782245092295227\n"
     ]
    }
   ],
   "source": [
    "# boston数据集\n",
    "from sklearn.datasets import load_boston\n",
    "from sklearn.model_selection import train_test_split\n",
    "from sklearn.metrics import mean_squared_error\n",
    "\n",
    "X,y = load_boston(return_X_y=True)\n",
    "X_train,X_test,y_train,y_test = train_test_split(X,y, random_state=0)\n",
    "\n",
    "reg = SimpleLinearRegression()\n",
    "reg.fit(X_train, y_train)\n",
    "print(reg.theta)\n",
    "\n",
    "y_pred = reg.predict(X_test)\n",
    "MSE_test = mean_squared_error(y_test,y_pred)\n",
    "print(\"测试集MSE:\",MSE_test)"
   ]
  },
  {
   "cell_type": "markdown",
   "metadata": {},
   "source": [
    "## 4、梯度下降法使用\n",
    "\n",
    "损失函数对$\\theta$向量求偏导。结果如下式：\n",
    "\n",
    "$\\frac{\\partial}{\\partial\\mathbf\\theta}J(\\mathbf\\theta) = \\mathbf{X}^T(\\mathbf{X\\theta} - \\mathbf{Y})$\n",
    "\n",
    "梯度下降的迭代公式为：\n",
    "\n",
    "$\\theta  := \\theta - \\alpha \\cdot \\mathbf{X}^T(\\mathbf{X\\theta} - \\mathbf{Y})$\n",
    "\n",
    "把损失函数想象成一个山坡，目标是找到山坡最低的点。则随便选一个起点，计算损失函数对于参数矩阵在该点的偏导数，每次往偏导数的反向向走一步，步长通过$\\alpha$来控制，直到走到最低点，即导数趋近于0的点为止\n",
    "\n",
    "缺点：最小点的时候收敛速度变慢，并且对初始点的选择极为敏感\n",
    "\n",
    "梯度下降有时会陷入局部最优解的问题中，即下山的路上有好多小坑，运气不好掉进坑里，但是由于底部梯度(导数)也为0，故以为找到了山的底部\n",
    "同时，步长选择的过大或者过小，都会影响模型的计算精度及计算效率"
   ]
  },
  {
   "cell_type": "code",
   "execution_count": 281,
   "metadata": {},
   "outputs": [],
   "source": [
    "class SimpleLinearRegression:\n",
    "\n",
    "    def __init__(self):\n",
    "        self.theta = None\n",
    "\n",
    "    def fit(self, X_train, y_train, learning_rate=0.02, n_iters=1e5, epsilon=1e-8):\n",
    "        #计算目标函数\n",
    "        def J(theta):\n",
    "            return 1/2.0*np.sum((np.dot(X_train, theta) - y_train)**2)\n",
    "        \n",
    "        #计算梯度\n",
    "        def dJ(theta):\n",
    "            return np.dot(X_train.T, np.dot(X_train, theta) - y_train)\n",
    "        \n",
    "        X_train = np.hstack((X_train, np.ones((len(X_train),1))))\n",
    "        last_theta = np.ones((X_train.shape[1]))\n",
    "        learning_rate = learning_rate/np.mean(np.square(X_train), axis=0) # 统一量纲。也可以对数据先进行归一化\n",
    "        cur_iter = 0\n",
    "        while cur_iter < n_iters:\n",
    "            gradient = dJ(last_theta) # 计算梯度\n",
    "            theta = last_theta - learning_rate * gradient # 更新参数\n",
    "            if (abs(J(theta) - J(last_theta)) < epsilon):  #目标函数更新小于一个足够小的值，则迭代结束\n",
    "                break\n",
    "            last_theta = theta\n",
    "            cur_iter += 1\n",
    "        self.theta = theta\n",
    "\n",
    "    def predict(self, x_predict):\n",
    "        x_predict = np.hstack((x_predict,np.ones((len(x_predict),1))))\n",
    "        return np.dot(x_predict,self.theta)"
   ]
  },
  {
   "cell_type": "code",
   "execution_count": 289,
   "metadata": {},
   "outputs": [
    {
     "name": "stdout",
     "output_type": "stream",
     "text": [
      "[0.79998041 0.39992816]\n"
     ]
    }
   ],
   "source": [
    "X = np.array([[1.], [2.], [3.], [4.], [5.]])\n",
    "y = np.array([1., 3., 2., 3., 5.])\n",
    "\n",
    "reg = SimpleLinearRegression()\n",
    "reg.fit(X, y, learning_rate=0.2)\n",
    "print(reg.theta)"
   ]
  },
  {
   "cell_type": "code",
   "execution_count": 296,
   "metadata": {},
   "outputs": [
    {
     "name": "stdout",
     "output_type": "stream",
     "text": [
      "[-1.17734882e-01  4.40178624e-02 -5.77547915e-03  2.39344741e+00\n",
      " -1.55859912e+01  3.76946414e+00 -7.03797564e-03 -1.43485942e+00\n",
      "  2.40050921e-01 -1.12967750e-02 -9.85425394e-01  8.44549626e-03\n",
      " -4.99090479e-01  3.69252279e+01]\n",
      "测试集MSE: 29.782330851657356\n"
     ]
    }
   ],
   "source": [
    "X,y = load_boston(return_X_y=True)\n",
    "X_train,X_test,y_train,y_test = train_test_split(X,y,random_state=0)\n",
    "\n",
    "reg = SimpleLinearRegression()\n",
    "reg.fit(X_train, y_train, learning_rate=0.0005, n_iters=1e5, epsilon=1e-8)\n",
    "print(reg.theta)\n",
    "\n",
    "y_pred = reg.predict(X_test)\n",
    "MSE_test = mean_squared_error(y_test,y_pred)\n",
    "print(\"测试集MSE:\",MSE_test)"
   ]
  },
  {
   "cell_type": "markdown",
   "metadata": {},
   "source": [
    "## 5、SKlearn调用线性回归"
   ]
  },
  {
   "cell_type": "code",
   "execution_count": 313,
   "metadata": {},
   "outputs": [
    {
     "name": "stdout",
     "output_type": "stream",
     "text": [
      "[-1.17735289e-01  4.40174969e-02 -5.76814314e-03  2.39341594e+00\n",
      " -1.55894211e+01  3.76896770e+00 -7.03517828e-03 -1.43495641e+00\n",
      "  2.40081086e-01 -1.12972810e-02 -9.85546732e-01  8.44443453e-03\n",
      " -4.99116797e-01]\n",
      "36.93325545711948\n",
      "测试集MSE: 29.782245092303484\n"
     ]
    }
   ],
   "source": [
    "from sklearn.linear_model import LinearRegression\n",
    "\n",
    "X,y = load_boston(return_X_y=True)\n",
    "X_train,X_test,y_train,y_test = train_test_split(X,y,random_state=0)\n",
    "\n",
    "reg = LinearRegression()\n",
    "reg.fit(X_train, y_train)\n",
    "print(reg.coef_)\n",
    "print(reg.intercept_)\n",
    "\n",
    "y_pred = reg.predict(X_test)\n",
    "MSE_test = mean_squared_error(y_test,y_pred)\n",
    "print(\"测试集MSE:\",MSE_test)"
   ]
  },
  {
   "cell_type": "markdown",
   "metadata": {},
   "source": [
    "## 6、前向逐步选择法"
   ]
  },
  {
   "cell_type": "code",
   "execution_count": 323,
   "metadata": {},
   "outputs": [
    {
     "name": "stdout",
     "output_type": "stream",
     "text": [
      "第1轮MSE： 36.5600733782031\n",
      "第2轮MSE： 29.023170613085806\n",
      "第3轮MSE： 24.186023274469267\n",
      "第4轮MSE： 23.392224341508868\n",
      "第5轮MSE： 22.739617883212972\n",
      "第6轮MSE： 21.43761428932315\n",
      "第7轮MSE： 20.995940376351047\n",
      "第8轮MSE： 20.70924799084877\n",
      "第9轮MSE： 20.370268315074984\n",
      "第10轮MSE： 20.209728663127922\n",
      "第11轮MSE： 19.652754653283097\n",
      "第12轮MSE： 19.640921256893932\n",
      "第13轮MSE： 19.640519427908043\n",
      "挑选后的特征集合： [12, 5, 10, 11, 7, 4, 3, 1, 0, 8, 9, 6, 2]\n",
      "挑选特征后的训练集MSE： 19.640519427908043\n"
     ]
    }
   ],
   "source": [
    "from sklearn.linear_model import LinearRegression\n",
    "\n",
    "X,y = load_boston(return_X_y=True)\n",
    "X_train,X_test,y_train,y_test = train_test_split(X,y,random_state=0)\n",
    "\n",
    "num_feature = X_train.shape[1]\n",
    "feature_li = []\n",
    "last_mse = 1000\n",
    "for j in range(num_feature):\n",
    "    mse_dic = {}\n",
    "    for i in range(num_feature):\n",
    "        if i in feature_li: continue\n",
    "        feature = feature_li + [i]\n",
    "        X_in = X_train[:,feature]\n",
    "        reg = LinearRegression()\n",
    "        reg.fit(X_in, y_train) \n",
    "        y_pred = reg.predict(X_in)\n",
    "        mse_dic[i] = mean_squared_error(y_train, y_pred)\n",
    "    max_feat = min(mse_dic, key=mse_dic.get)\n",
    "    if mse_dic[max_feat] < last_mse:\n",
    "        last_mse = mse_dic[max_feat]\n",
    "        feature_li.append(max_feat)\n",
    "        print(\"第\"+str(j+1)+\"轮MSE：\",last_mse)\n",
    "        \n",
    "        #计算测试集MSE\n",
    "#         X_in = X_train[:,feature_li]\n",
    "#         reg = LinearRegression()\n",
    "#         reg.fit(X_in, y_train) \n",
    "#         y_pred = reg.predict(X_test[:,feature_li])\n",
    "#         MSE_test = mean_squared_error(y_test,y_pred)\n",
    "#         print(\"第\"+str(j+1)+\"轮测试MSE：\",MSE_test)      \n",
    "    else:\n",
    "        break\n",
    "\n",
    "print(\"挑选后的特征集合：\",feature_li)\n",
    "print(\"挑选特征后的训练集MSE：\",last_mse)"
   ]
  },
  {
   "cell_type": "code",
   "execution_count": 324,
   "metadata": {},
   "outputs": [
    {
     "name": "stdout",
     "output_type": "stream",
     "text": [
      "第1轮MSE： 3808.2348869709485\n",
      "第2轮MSE： 3086.4515101200313\n",
      "第3轮MSE： 2994.0171958442024\n",
      "第4轮MSE： 2901.7351853255327\n",
      "第5轮MSE： 2864.796932911645\n",
      "第6轮MSE： 2791.9033007274625\n",
      "第7轮MSE： 2788.359742836528\n",
      "第8轮MSE： 2784.3341573838056\n",
      "第9轮MSE： 2781.3583315975375\n",
      "第10轮MSE： 2780.062316059081\n",
      "挑选后的特征集合： [2, 8, 4, 3, 1, 6, 7, 5, 0, 9]\n",
      "挑选特征后的训练集MSE： 2780.062316059081\n"
     ]
    }
   ],
   "source": [
    "from sklearn.linear_model import LinearRegression\n",
    "from sklearn.datasets import load_diabetes\n",
    "\n",
    "X,y = load_diabetes(return_X_y=True)\n",
    "X_train,X_test,y_train,y_test = train_test_split(X,y,random_state=0)\n",
    "\n",
    "num_feature = X_train.shape[1]\n",
    "feature_li = []\n",
    "last_mse = 100000\n",
    "for j in range(num_feature):\n",
    "    mse_dic = {}\n",
    "    for i in range(num_feature):\n",
    "        if i in feature_li: continue\n",
    "        feature = feature_li + [i]\n",
    "        X_in = X_train[:,feature]\n",
    "        reg = LinearRegression()\n",
    "        reg.fit(X_in, y_train) \n",
    "        y_pred = reg.predict(X_in)\n",
    "        mse_dic[i] = mean_squared_error(y_train, y_pred)\n",
    "    max_feat = min(mse_dic, key=mse_dic.get)\n",
    "    if mse_dic[max_feat] < last_mse:\n",
    "        last_mse = mse_dic[max_feat]\n",
    "        feature_li.append(max_feat)\n",
    "        print(\"第\"+str(j+1)+\"轮MSE：\",last_mse)\n",
    "        \n",
    "        #计算测试集MSE\n",
    "#         X_in = X_train[:,feature_li]\n",
    "#         reg = LinearRegression()\n",
    "#         reg.fit(X_in, y_train) \n",
    "#         y_pred = reg.predict(X_test[:,feature_li])\n",
    "#         MSE_test = mean_squared_error(y_test,y_pred)\n",
    "#         print(\"第\"+str(j+1)+\"轮测试MSE：\",MSE_test)       \n",
    "    else:\n",
    "        break\n",
    "\n",
    "print(\"挑选后的特征集合：\",feature_li)\n",
    "print(\"挑选特征后的训练集MSE：\",last_mse)"
   ]
  },
  {
   "cell_type": "markdown",
   "metadata": {},
   "source": [
    "## 作业：参考前向逐步选择法，实现逐步回归法"
   ]
  }
 ],
 "metadata": {
  "kernelspec": {
   "display_name": "Python 3",
   "language": "python",
   "name": "python3"
  },
  "language_info": {
   "codemirror_mode": {
    "name": "ipython",
    "version": 3
   },
   "file_extension": ".py",
   "mimetype": "text/x-python",
   "name": "python",
   "nbconvert_exporter": "python",
   "pygments_lexer": "ipython3",
   "version": "3.6.4"
  }
 },
 "nbformat": 4,
 "nbformat_minor": 2
}
