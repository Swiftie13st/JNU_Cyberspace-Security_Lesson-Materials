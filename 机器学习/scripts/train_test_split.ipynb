{
 "cells": [
  {
   "cell_type": "markdown",
   "metadata": {},
   "source": [
    "## 留出法\n",
    "### 1、简单的留出法"
   ]
  },
  {
   "cell_type": "code",
   "execution_count": 15,
   "metadata": {
    "scrolled": true
   },
   "outputs": [
    {
     "name": "stdout",
     "output_type": "stream",
     "text": [
      "[[5.1 3.5 1.4 0.2]\n",
      " [4.9 3.  1.4 0.2]]\n",
      "X的形状: (150, 4)\n",
      "y的形状: (150,)\n",
      "训练集样本数： 100\n",
      "测试集样本数： 50\n"
     ]
    }
   ],
   "source": [
    "from sklearn.datasets import load_iris\n",
    "import numpy as np\n",
    "\n",
    "# X为数据的特征，y为数据的标签\n",
    "X, y = load_iris(return_X_y=True)\n",
    "print(X[:2])\n",
    "\n",
    "# X, y的形状\n",
    "print(\"X的形状:\",X.shape)\n",
    "print(\"y的形状:\",y.shape)\n",
    "\n",
    "# 留出后100个作为测试集，其余为训练集（留出法）\n",
    "X_train = X[:-50]\n",
    "y_train = y[:-50]\n",
    "X_test = X[-50:]\n",
    "y_test = y[-50:]\n",
    "\n",
    "# 打印样本数\n",
    "print(\"训练集样本数：\",len(X_train))\n",
    "print(\"测试集样本数：\",len(X_test))"
   ]
  },
  {
   "cell_type": "markdown",
   "metadata": {},
   "source": [
    "### 2、留出法中的数据分布"
   ]
  },
  {
   "cell_type": "code",
   "execution_count": 13,
   "metadata": {},
   "outputs": [
    {
     "name": "stdout",
     "output_type": "stream",
     "text": [
      "训练集中的标签： [0 0 0 0 0 0 0 0 0 0 0 0 0 0 0 0 0 0 0 0 0 0 0 0 0 0 0 0 0 0 0 0 0 0 0 0 0\n",
      " 0 0 0 0 0 0 0 0 0 0 0 0 0 1 1 1 1 1 1 1 1 1 1 1 1 1 1 1 1 1 1 1 1 1 1 1 1\n",
      " 1 1 1 1 1 1 1 1 1 1 1 1 1 1 1 1 1 1 1 1 1 1 1 1 1 1]\n",
      "测试集中的标签： [2 2 2 2 2 2 2 2 2 2 2 2 2 2 2 2 2 2 2 2 2 2 2 2 2 2 2 2 2 2 2 2 2 2 2 2 2\n",
      " 2 2 2 2 2 2 2 2 2 2 2 2 2]\n"
     ]
    }
   ],
   "source": [
    "print(\"训练集中的标签：\",y_train)\n",
    "print(\"测试集中的标签：\",y_test)"
   ]
  },
  {
   "cell_type": "markdown",
   "metadata": {},
   "source": [
    "### 3、加入随机打散的留出法"
   ]
  },
  {
   "cell_type": "code",
   "execution_count": 18,
   "metadata": {},
   "outputs": [
    {
     "name": "stdout",
     "output_type": "stream",
     "text": [
      "[ 29  97  33   6  38  56  81  76  17   7   2  85  95 120  70  28  39 133\n",
      " 103  36  21 102  80 146  25  68  79   5 147 145 131  58   0  37 129 119\n",
      "  82  69  15  59  43 122  74  96  31 113  78  34  11  89 137  62  35 124\n",
      "  61  83  44 140 106  52 142  41 132  23  51  55  77 127 149  20  19  27\n",
      "  75   3  50 143  92  93 101  42  14  66 110  57   9 135  26  16 109 128\n",
      "  67 130  47 105  63 139 148 141   8 111 107  40  54  72  32 108  87  13\n",
      "  73 138  64  22 117 125  65  94  91  90  10 126 114   4  84  71 144 123\n",
      "  49 115 104  30  88 116 112  18  24  46  86  45  60  12  53   1 136  98\n",
      " 118 134 121 100  99  48]\n"
     ]
    }
   ],
   "source": [
    "#permutation函数生成一个从0到149的随机排列数组。返回值是array类型\n",
    "shuffle_indexes = np.random.permutation(len(X))\n",
    "print(shuffle_indexes)"
   ]
  },
  {
   "cell_type": "code",
   "execution_count": 23,
   "metadata": {},
   "outputs": [
    {
     "name": "stdout",
     "output_type": "stream",
     "text": [
      "45\n"
     ]
    }
   ],
   "source": [
    "test_ratio = 0.3\n",
    "#通过设置比例的方式来确定测试集的数量，要注意结果可能不是整数，需要强制转换\n",
    "test_size = int(test_ratio * len(X))\n",
    "print(test_size)"
   ]
  },
  {
   "cell_type": "code",
   "execution_count": 24,
   "metadata": {},
   "outputs": [
    {
     "name": "stdout",
     "output_type": "stream",
     "text": [
      "[0 1 0 0 0 1 1 1 0 0 0 1 1 2 1 0 0 2 2 0 0 2 1 2 0 1 1 0 2 2 2 1 0 0 2 2 1\n",
      " 1 0 1 0 2 1 1 0]\n"
     ]
    }
   ],
   "source": [
    "test_indexes = shuffle_indexes[:test_size] #前百分之二十是测试数据集\n",
    "train_indexes = shuffle_indexes[test_size:]\n",
    "\n",
    "X_train = X[train_indexes]\n",
    "y_train = y[train_indexes]\n",
    "\n",
    "X_test = X[test_indexes]\n",
    "y_test = y[test_indexes]\n",
    "\n",
    "print(y_test)"
   ]
  },
  {
   "cell_type": "markdown",
   "metadata": {},
   "source": [
    "### 4、Sklearn中的留出法"
   ]
  },
  {
   "cell_type": "code",
   "execution_count": 29,
   "metadata": {},
   "outputs": [
    {
     "name": "stdout",
     "output_type": "stream",
     "text": [
      "[0 2 2 1 1 1 1 1 2 1 0 2 0 0 1 0 2 1 0 2 2 1 2 2 1 1 2 0 1 2 1 1 0 2 2 0 0\n",
      " 1 1 2 2 0 1 0 2]\n"
     ]
    }
   ],
   "source": [
    "from sklearn.model_selection import train_test_split\n",
    "\n",
    "# help(train_test_split)\n",
    "X_train, X_test, y_train, y_test = train_test_split(X, y, test_size=0.3)\n",
    "print(y_test)"
   ]
  },
  {
   "cell_type": "markdown",
   "metadata": {},
   "source": [
    "### 5、留出法的问题"
   ]
  },
  {
   "cell_type": "code",
   "execution_count": 61,
   "metadata": {},
   "outputs": [
    {
     "name": "stdout",
     "output_type": "stream",
     "text": [
      "0.9555555555555556\n"
     ]
    }
   ],
   "source": [
    "from sklearn.model_selection import train_test_split\n",
    "from sklearn.linear_model import LogisticRegression\n",
    "\n",
    "# help(train_test_split)\n",
    "X_train, X_test, y_train, y_test = train_test_split(X, y, test_size=0.3)\n",
    "\n",
    "# 训练模型\n",
    "clf = LogisticRegression().fit(X_train, y_train)\n",
    "\n",
    "#help(clf.score)\n",
    "# 输出模型得分\n",
    "print(clf.score(X_test, y_test))  # 不同的分割，结果相差很大"
   ]
  },
  {
   "cell_type": "markdown",
   "metadata": {},
   "source": [
    "## 交叉验证法\n",
    "### 1、实现交叉验证法"
   ]
  },
  {
   "cell_type": "code",
   "execution_count": 108,
   "metadata": {},
   "outputs": [
    {
     "name": "stdout",
     "output_type": "stream",
     "text": [
      "0 114\n",
      "114 228\n",
      "228 342\n",
      "342 456\n",
      "456 569\n",
      "结果列表： [0.9385964912280702, 0.956140350877193, 0.9385964912280702, 0.9649122807017544, 0.9557522123893806]\n",
      "最终结果： 0.9507995652848937\n"
     ]
    }
   ],
   "source": [
    "num_folds = 5\n",
    "num_fold_samples = len(X)/num_folds\n",
    "res = []\n",
    "shuffle_indexes = np.random.permutation(len(X))\n",
    "X,y = X[shuffle_indexes], y[shuffle_indexes]\n",
    "for fold in range(num_folds):\n",
    "    #计算测试集开始和结束的索引\n",
    "    start_inx = int(np.ceil(fold*num_fold_samples))\n",
    "    end_inx = int(np.ceil((fold+1)*num_fold_samples))\n",
    "    print(start_inx,end_inx)\n",
    "    #取到训练集和测试集\n",
    "    X_train = X[np.r_[:start_inx,end_inx:len(X)]]\n",
    "    y_train = y[np.r_[:start_inx,end_inx:len(X)]]\n",
    "    X_test = X[start_inx:end_inx]\n",
    "    y_test = y[start_inx:end_inx]\n",
    "    #训练和测试\n",
    "    clf = LogisticRegression().fit(X_train, y_train)\n",
    "    res.append(clf.score(X_test, y_test))\n",
    "print(\"结果列表：\", res)\n",
    "print(\"最终结果：\", np.average(res))"
   ]
  },
  {
   "cell_type": "markdown",
   "metadata": {},
   "source": [
    "### 2、Sklearn中的交叉验证"
   ]
  },
  {
   "cell_type": "code",
   "execution_count": 95,
   "metadata": {},
   "outputs": [
    {
     "name": "stdout",
     "output_type": "stream",
     "text": [
      "结果列表： [0.9666666666666667, 0.9666666666666667, 0.9333333333333333, 0.9333333333333333, 0.9666666666666667]\n",
      "最终结果： 0.9533333333333334\n"
     ]
    }
   ],
   "source": [
    "from sklearn.model_selection import KFold\n",
    "#shuffle_indexes = np.random.permutation(len(X))\n",
    "#X,y = X[shuffle_indexes], y[shuffle_indexes]\n",
    "kf = KFold(n_splits=5)\n",
    "res = []\n",
    "for train_index, test_index in kf.split(X):\n",
    "    X_train, y_train = X[train_index], y[train_index]\n",
    "    X_test, y_test = X[test_index], y[test_index]\n",
    "    clf = LogisticRegression().fit(X_train, y_train)\n",
    "    res.append(clf.score(X_test, y_test))\n",
    "print(\"结果列表：\", res)\n",
    "print(\"最终结果：\", np.average(res))"
   ]
  },
  {
   "cell_type": "markdown",
   "metadata": {},
   "source": [
    "### 3、作业\n",
    "在 “1、实现交叉验证法” 基础上实现留10法"
   ]
  }
 ],
 "metadata": {
  "kernelspec": {
   "display_name": "Python 3",
   "language": "python",
   "name": "python3"
  },
  "language_info": {
   "codemirror_mode": {
    "name": "ipython",
    "version": 3
   },
   "file_extension": ".py",
   "mimetype": "text/x-python",
   "name": "python",
   "nbconvert_exporter": "python",
   "pygments_lexer": "ipython3",
   "version": "3.8.8"
  }
 },
 "nbformat": 4,
 "nbformat_minor": 2
}
