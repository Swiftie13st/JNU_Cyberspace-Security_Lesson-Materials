{
 "cells": [
  {
   "cell_type": "markdown",
   "metadata": {},
   "source": [
    "### 1、正确率和错误率（手动计算）"
   ]
  },
  {
   "cell_type": "code",
   "execution_count": 188,
   "metadata": {},
   "outputs": [
    {
     "name": "stdout",
     "output_type": "stream",
     "text": [
      "57\n",
      "[1 0 1 1 1 0 1 0 1 1 1 1 1 1 1 0 1 0 1 1 0 1 1 1 1 1 1 1 1 0 1 1 0 1 1 1 1\n",
      " 1 1 0 1 0 1 1 1 1 0 0 1 0 1 0 1 1 1 1 1]\n",
      "[1 0 1 1 1 0 1 0 1 1 1 1 1 1 1 0 1 0 1 1 1 0 1 1 1 1 1 1 1 0 1 1 0 1 1 1 1\n",
      " 0 1 0 1 0 1 1 1 1 0 0 1 0 1 0 1 1 1 1 1]\n",
      "正确率: 0.9473684210526315\n",
      "错误率: 0.05263157894736842\n"
     ]
    }
   ],
   "source": [
    "from sklearn.datasets import load_breast_cancer\n",
    "from sklearn.model_selection import train_test_split\n",
    "from sklearn.linear_model import LogisticRegression\n",
    "import numpy as np\n",
    "\n",
    "#print(load_breast_cancer().DESCR)\n",
    "# X为数据的特征，y为数据的标签\n",
    "X, y = load_breast_cancer(return_X_y=True)\n",
    "X_train, X_test, y_train, y_test = train_test_split(X, y, test_size=0.1)\n",
    "print(len(y_test))\n",
    "\n",
    "# 训练与测试\n",
    "clf = LogisticRegression().fit(X_train, y_train)\n",
    "y_pred = clf.predict(X_test)\n",
    "\n",
    "# 对比\n",
    "print(y_pred)\n",
    "print(y_test)\n",
    "\n",
    "# 计算accuracy与error\n",
    "accuracy = np.sum(y_pred == y_test)/len(y_test)\n",
    "print(\"正确率:\",accuracy)\n",
    "error = np.sum(y_pred != y_test)/len(y_test)\n",
    "print(\"错误率:\",error)"
   ]
  },
  {
   "cell_type": "markdown",
   "metadata": {},
   "source": [
    "### 2、正确率和错误率（Sklearn）"
   ]
  },
  {
   "cell_type": "code",
   "execution_count": 189,
   "metadata": {},
   "outputs": [
    {
     "name": "stdout",
     "output_type": "stream",
     "text": [
      "[1 0 1 1 1 0 1 0 1 1 1 1 1 1 1 0 1 0 1 1 0 1 1 1 1 1 1 1 1 0 1 1 0 1 1 1 1\n",
      " 1 1 0 1 0 1 1 1 1 0 0 1 0 1 0 1 1 1 1 1]\n",
      "[1 0 1 1 1 0 1 0 1 1 1 1 1 1 1 0 1 0 1 1 1 0 1 1 1 1 1 1 1 0 1 1 0 1 1 1 1\n",
      " 0 1 0 1 0 1 1 1 1 0 0 1 0 1 0 1 1 1 1 1]\n",
      "正确率: 0.9473684210526315\n",
      "错误率: 0.052631578947368474\n"
     ]
    }
   ],
   "source": [
    "from sklearn.datasets import load_breast_cancer\n",
    "from sklearn.model_selection import train_test_split\n",
    "from sklearn.linear_model import LogisticRegression\n",
    "import numpy as np\n",
    "from sklearn.metrics import accuracy_score\n",
    "#help(accuracy_score)\n",
    "\n",
    "#训练与测试\n",
    "clf = LogisticRegression().fit(X_train, y_train)\n",
    "y_pred = clf.predict(X_test)\n",
    "\n",
    "# 对比\n",
    "print(y_pred)\n",
    "print(y_test)\n",
    "\n",
    "# 计算accuracy与error\n",
    "accuracy = accuracy_score(y_test,y_pred)\n",
    "print(\"正确率:\",accuracy)\n",
    "error = 1-accuracy\n",
    "print(\"错误率:\",error)"
   ]
  },
  {
   "cell_type": "markdown",
   "metadata": {},
   "source": [
    "### 3、混淆矩阵(手动计算)"
   ]
  },
  {
   "cell_type": "code",
   "execution_count": 190,
   "metadata": {},
   "outputs": [
    {
     "name": "stdout",
     "output_type": "stream",
     "text": [
      "[1 0 1 1 1 0 1 0 1 1 1 1 1 1 1 0 1 0 1 1 0 1 1 1 1 1 1 1 1 0 1 1 0 1 1 1 1\n",
      " 1 1 0 1 0 1 1 1 1 0 0 1 0 1 0 1 1 1 1 1]\n",
      "[1 0 1 1 1 0 1 0 1 1 1 1 1 1 1 0 1 0 1 1 1 0 1 1 1 1 1 1 1 0 1 1 0 1 1 1 1\n",
      " 0 1 0 1 0 1 1 1 1 0 0 1 0 1 0 1 1 1 1 1]\n",
      "True Positive: 13\n",
      "False Positive: 1\n",
      "False Negative: 2\n",
      "True Negative: 41\n",
      "Accuracy: 0.9473684210526315\n",
      "Precision: 0.9285714285714286\n",
      "Recall: 0.8666666666666667\n",
      "F1: 0.896551724137931\n"
     ]
    }
   ],
   "source": [
    "#训练与测试\n",
    "clf = LogisticRegression().fit(X_train, y_train)\n",
    "y_pred = clf.predict(X_test)\n",
    "\n",
    "# 对比\n",
    "print(y_pred)\n",
    "print(y_test)\n",
    "\n",
    "# 计算TP、FP、FN、TN\n",
    "TP = np.sum((y_pred==0) & (y_test==0))\n",
    "FP = np.sum((y_pred==0) & (y_test==1))\n",
    "\n",
    "FN = np.sum((y_pred==1) & (y_test==0))\n",
    "TN = np.sum((y_pred==1) & (y_test==1))\n",
    "\n",
    "print('True Positive:',TP)\n",
    "print('False Positive:',FP)\n",
    "print('False Negative:',FN)\n",
    "print('True Negative:',TN)\n",
    "\n",
    "acc = (TP + TN) / (TP+FP+FN+TN)\n",
    "print('Accuracy:',acc)\n",
    "\n",
    "precision = TP / (TP+FP)\n",
    "print('Precision:',precision)\n",
    "\n",
    "recall = TP / (TP+FN)\n",
    "print('Recall:',recall)\n",
    "\n",
    "F1 = 2*(precision*recall) / (precision+recall)\n",
    "print('F1:',F1)"
   ]
  },
  {
   "cell_type": "markdown",
   "metadata": {},
   "source": [
    "### 4、混淆矩阵(Sklearn计算)"
   ]
  },
  {
   "cell_type": "code",
   "execution_count": 191,
   "metadata": {},
   "outputs": [
    {
     "name": "stdout",
     "output_type": "stream",
     "text": [
      "混淆矩阵:\n",
      " [[13  2]\n",
      " [ 1 41]]\n",
      "正确率: 0.9473684210526315\n",
      "精确率: 0.9534883720930233\n",
      "召回率: 0.9761904761904762\n",
      "F1值: 0.9647058823529412\n"
     ]
    }
   ],
   "source": [
    "from sklearn import metrics\n",
    "\n",
    "print(\"混淆矩阵:\\n\",metrics.confusion_matrix(y_test,y_pred))\n",
    "\n",
    "print(\"正确率:\",metrics.accuracy_score(y_test,y_pred))\n",
    "\n",
    "print(\"精确率:\",metrics.precision_score(y_test,y_pred))\n",
    "\n",
    "print(\"召回率:\",metrics.recall_score(y_test,y_pred))\n",
    "\n",
    "print(\"F1值:\",metrics.f1_score(y_test,y_pred))"
   ]
  },
  {
   "cell_type": "code",
   "execution_count": 177,
   "metadata": {},
   "outputs": [
    {
     "name": "stdout",
     "output_type": "stream",
     "text": [
      "             precision    recall  f1-score   support\n",
      "\n",
      "  malignant       1.00      0.86      0.92        14\n",
      "     benign       0.96      1.00      0.98        43\n",
      "\n",
      "avg / total       0.97      0.96      0.96        57\n",
      "\n"
     ]
    }
   ],
   "source": [
    "#分类情况报告\n",
    "print(metrics.classification_report(y_test,y_pred,target_names = load_breast_cancer().target_names))"
   ]
  },
  {
   "cell_type": "markdown",
   "metadata": {},
   "source": [
    "### 5、多分类混淆矩阵(Sklearn)"
   ]
  },
  {
   "cell_type": "code",
   "execution_count": 195,
   "metadata": {},
   "outputs": [
    {
     "name": "stdout",
     "output_type": "stream",
     "text": [
      "混淆矩阵:\n",
      " [[24  0  0]\n",
      " [ 0 20 11]\n",
      " [ 0  0 20]]\n",
      "宏精确率: 0.8817204301075269\n",
      "微精确率: 0.8533333333333334\n"
     ]
    }
   ],
   "source": [
    "from sklearn.datasets import load_iris\n",
    "from sklearn.model_selection import train_test_split\n",
    "from sklearn.linear_model import LogisticRegression\n",
    "from sklearn import metrics\n",
    "\n",
    "X, y = load_iris(return_X_y=True)\n",
    "X_train, X_test, y_train, y_test = train_test_split(X, y, test_size=0.5)\n",
    "\n",
    "#训练与测试\n",
    "clf = LogisticRegression().fit(X_train, y_train)\n",
    "y_pred = clf.predict(X_test)\n",
    "\n",
    "print(\"混淆矩阵:\\n\",metrics.confusion_matrix(y_test,y_pred))\n",
    "print(\"宏精确率:\",metrics.precision_score(y_test,y_pred, average=\"macro\"))\n",
    "print(\"微精确率:\",metrics.precision_score(y_test,y_pred, average=\"micro\"))"
   ]
  },
  {
   "cell_type": "markdown",
   "metadata": {},
   "source": [
    "### 6、作业\n",
    "在 “5、多分类混淆矩阵(Sklearn)” 基础上附上手动计算宏精确率、微精确率的代码"
   ]
  },
  {
   "cell_type": "markdown",
   "metadata": {},
   "source": [
    "### 7、MSE(手动计算)"
   ]
  },
  {
   "cell_type": "code",
   "execution_count": 178,
   "metadata": {},
   "outputs": [
    {
     "name": "stdout",
     "output_type": "stream",
     "text": [
      "26\n",
      "MSE: 24.184604669920525\n"
     ]
    },
    {
     "data": {
      "text/plain": [
       "[<matplotlib.lines.Line2D at 0x19fe9d74eb8>]"
      ]
     },
     "execution_count": 178,
     "metadata": {},
     "output_type": "execute_result"
    },
    {
     "data": {
      "image/png": "[encoded data removed]",
      "text/plain": [
       "<matplotlib.figure.Figure at 0x19fe8d24208>"
      ]
     },
     "metadata": {},
     "output_type": "display_data"
    }
   ],
   "source": [
    "from sklearn.datasets import load_boston\n",
    "from sklearn.linear_model import LinearRegression\n",
    "import matplotlib.pyplot as plt\n",
    "\n",
    "dataset = load_boston()\n",
    "#print(dataset.DESCR)\n",
    "\n",
    "# X为数据的特征，y为数据的标签\n",
    "X,y = dataset.data[:,5:6],dataset.target\n",
    "X_train, X_test, y_train, y_test = train_test_split(X, y, test_size=0.05)\n",
    "print(len(y_test))\n",
    "\n",
    "reg = LinearRegression().fit(X_train,y_train)\n",
    "y_pred = reg.predict(X_test)\n",
    "MSE = 1/len(y_test)*np.sum(np.square(y_test-y_pred))\n",
    "print(\"MSE:\",MSE)\n",
    "\n",
    "plt.scatter(X_test,y_test,color=\"purple\")\n",
    "x = np.arange(4,10,1).reshape(-1,1)\n",
    "plt.plot(x,reg.predict(x))"
   ]
  },
  {
   "cell_type": "markdown",
   "metadata": {},
   "source": [
    "### 8、MSE(Sklearn计算)"
   ]
  },
  {
   "cell_type": "code",
   "execution_count": 179,
   "metadata": {},
   "outputs": [
    {
     "name": "stdout",
     "output_type": "stream",
     "text": [
      "MSE: 24.184604669920525\n"
     ]
    }
   ],
   "source": [
    "from sklearn import metrics\n",
    "\n",
    "MSE = metrics.mean_squared_error(y_test,y_pred)\n",
    "print(\"MSE:\",MSE)"
   ]
  }
 ],
 "metadata": {
  "kernelspec": {
   "display_name": "Python 3",
   "language": "python",
   "name": "python3"
  },
  "language_info": {
   "codemirror_mode": {
    "name": "ipython",
    "version": 3
   },
   "file_extension": ".py",
   "mimetype": "text/x-python",
   "name": "python",
   "nbconvert_exporter": "python",
   "pygments_lexer": "ipython3",
   "version": "3.8.8"
  }
 },
 "nbformat": 4,
 "nbformat_minor": 2
}
