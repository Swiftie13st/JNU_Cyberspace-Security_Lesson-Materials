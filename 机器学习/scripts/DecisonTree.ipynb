{
 "cells": [
  {
   "cell_type": "markdown",
   "metadata": {},
   "source": [
    "# 第6章 决策树"
   ]
  },
  {
   "cell_type": "markdown",
   "metadata": {},
   "source": [
    "1．分类决策树模型是表示基于特征对实例进行分类的树形结构。决策树可以转换成一个**if-then**规则的集合，也可以看作是定义在特征空间划分上的类的条件概率分布。\n",
    "\n",
    "2．决策树学习旨在构建一个与训练数据拟合很好，并且复杂度小的决策树。因为从可能的决策树中直接选取最优决策树是NP完全问题。现实中采用启发式方法学习次优的决策树。\n",
    "\n",
    "决策树学习算法包括3部分：特征选择、树的生成和树的剪枝。常用的算法有ID3、\n",
    "C4.5和CART。\n",
    "\n",
    "3．特征选择的目的在于选取对训练数据能够分类的特征。特征选择的关键是其准则。常用的准则如下：\n",
    "\n",
    "（1）样本集合$D$对特征$A$的信息增益（ID3）\n",
    "\n",
    "\n",
    "$$g(D, A)=H(D)-H(D|A)$$\n",
    "\n",
    "$$H(D)=-\\sum_{k=1}^{K} \\frac{\\left|C_{k}\\right|}{|D|} \\log _{2} \\frac{\\left|C_{k}\\right|}{|D|}$$\n",
    "\n",
    "$$H(D | A)=\\sum_{i=1}^{n} \\frac{\\left|D_{i}\\right|}{|D|} H\\left(D_{i}\\right)$$\n",
    "\n",
    "其中，$H(D)$是数据集$D$的熵，$H(D_i)$是数据集$D_i$的熵，$H(D|A)$是数据集$D$对特征$A$的条件熵。\t$D_i$是$D$中特征$A$取第$i$个值的样本子集，$C_k$是$D$中属于第$k$类的样本子集。$n$是特征$A$取 值的个数，$K$是类的个数。\n",
    "\n",
    "（2）样本集合$D$对特征$A$的信息增益比（C4.5）\n",
    "\n",
    "\n",
    "$$g_{R}(D, A)=\\frac{g(D, A)}{H(D)}$$\n",
    "\n",
    "\n",
    "其中，$g(D,A)$是信息增益，$H(D)$是数据集$D$的熵。\n",
    "\n",
    "（3）样本集合$D$的基尼指数（CART）\n",
    "\n",
    "$$\\operatorname{Gini}(D)=1-\\sum_{k=1}^{K}\\left(\\frac{\\left|C_{k}\\right|}{|D|}\\right)^{2}$$\n",
    "\n",
    "特征$A$条件下集合$D$的基尼指数：\n",
    "\n",
    " $$\\operatorname{Gini}(D, A)=\\frac{\\left|D_{1}\\right|}{|D|} \\operatorname{Gini}\\left(D_{1}\\right)+\\frac{\\left|D_{2}\\right|}{|D|} \\operatorname{Gini}\\left(D_{2}\\right)$$\n",
    " \n",
    "4．决策树的生成。通常使用信息增益最大、信息增益比最大或基尼指数最小作为特征选择的准则。决策树的生成往往通过计算信息增益或其他指标，从根结点开始，递归地产生决策树。这相当于用信息增益或其他准则不断地选取局部最优的特征，或将训练集分割为能够基本正确分类的子集。\n",
    "\n",
    "5．决策树的剪枝。由于生成的决策树存在过拟合问题，需要对它进行剪枝，以简化学到的决策树。决策树的剪枝，往往从已生成的树上剪掉一些叶结点或叶结点以上的子树，并将其父结点或根结点作为新的叶结点，从而简化生成的决策树。\n"
   ]
  },
  {
   "cell_type": "code",
   "execution_count": 2,
   "metadata": {},
   "outputs": [],
   "source": [
    "import numpy as np\n",
    "import pandas as pd\n",
    "import matplotlib.pyplot as plt\n",
    "%matplotlib inline\n",
    "\n",
    "from math import log"
   ]
  },
  {
   "cell_type": "markdown",
   "metadata": {},
   "source": [
    "---\n",
    "### 1、课件上数据集"
   ]
  },
  {
   "cell_type": "code",
   "execution_count": 41,
   "metadata": {},
   "outputs": [],
   "source": [
    "# 书上题目5.1\n",
    "def create_data():\n",
    "    datasets = [['自由职业', 28, '男', 5000, '高中', '是'],\n",
    "               ['工人', 36, '女', 5500, '高中', '否'],\n",
    "               ['工人', 42, '男', 2800, '初中', '是'],\n",
    "               ['白领', 45, '女', 3300, '小学', '是'],\n",
    "               ['白领', 25, '男', 10000, '初中', '是'],\n",
    "               ['白领', 32, '女', 8000, '硕士', '是'],\n",
    "               ['白领', 28, '女', 13000, '硕士', '是'],\n",
    "               ['自由职业', 21, '男', 4000, '本科', '否'],\n",
    "               ['自由职业', 22, '女', 3200, '初中', '否'],\n",
    "               ['工人', 33, '男', 3000, '高中', '否'],\n",
    "               ['工人', 48, '女', 4200, '初中', '否']\n",
    "               ]\n",
    "    column_name = [u'职业', u'年龄', u'性别', u'收入', u'学历', u'是否贷款']\n",
    "    # 返回数据集和每个维度的名称\n",
    "    return datasets, column_name"
   ]
  },
  {
   "cell_type": "code",
   "execution_count": 42,
   "metadata": {},
   "outputs": [],
   "source": [
    "pdata, column_name = create_data()"
   ]
  },
  {
   "cell_type": "code",
   "execution_count": 43,
   "metadata": {},
   "outputs": [],
   "source": [
    "pdata = pd.DataFrame(pdata, columns=column_name)"
   ]
  },
  {
   "cell_type": "code",
   "execution_count": 44,
   "metadata": {},
   "outputs": [
    {
     "data": {
      "text/html": [
       "<div>\n",
       "<style scoped>\n",
       "    .dataframe tbody tr th:only-of-type {\n",
       "        vertical-align: middle;\n",
       "    }\n",
       "\n",
       "    .dataframe tbody tr th {\n",
       "        vertical-align: top;\n",
       "    }\n",
       "\n",
       "    .dataframe thead th {\n",
       "        text-align: right;\n",
       "    }\n",
       "</style>\n",
       "<table border=\"1\" class=\"dataframe\">\n",
       "  <thead>\n",
       "    <tr style=\"text-align: right;\">\n",
       "      <th></th>\n",
       "      <th>职业</th>\n",
       "      <th>年龄</th>\n",
       "      <th>性别</th>\n",
       "      <th>收入</th>\n",
       "      <th>学历</th>\n",
       "      <th>是否贷款</th>\n",
       "    </tr>\n",
       "  </thead>\n",
       "  <tbody>\n",
       "    <tr>\n",
       "      <th>0</th>\n",
       "      <td>自由职业</td>\n",
       "      <td>28</td>\n",
       "      <td>男</td>\n",
       "      <td>5000</td>\n",
       "      <td>高中</td>\n",
       "      <td>是</td>\n",
       "    </tr>\n",
       "    <tr>\n",
       "      <th>1</th>\n",
       "      <td>工人</td>\n",
       "      <td>36</td>\n",
       "      <td>女</td>\n",
       "      <td>5500</td>\n",
       "      <td>高中</td>\n",
       "      <td>否</td>\n",
       "    </tr>\n",
       "    <tr>\n",
       "      <th>2</th>\n",
       "      <td>工人</td>\n",
       "      <td>42</td>\n",
       "      <td>男</td>\n",
       "      <td>2800</td>\n",
       "      <td>初中</td>\n",
       "      <td>是</td>\n",
       "    </tr>\n",
       "    <tr>\n",
       "      <th>3</th>\n",
       "      <td>白领</td>\n",
       "      <td>45</td>\n",
       "      <td>女</td>\n",
       "      <td>3300</td>\n",
       "      <td>小学</td>\n",
       "      <td>是</td>\n",
       "    </tr>\n",
       "    <tr>\n",
       "      <th>4</th>\n",
       "      <td>白领</td>\n",
       "      <td>25</td>\n",
       "      <td>男</td>\n",
       "      <td>10000</td>\n",
       "      <td>初中</td>\n",
       "      <td>是</td>\n",
       "    </tr>\n",
       "    <tr>\n",
       "      <th>5</th>\n",
       "      <td>白领</td>\n",
       "      <td>32</td>\n",
       "      <td>女</td>\n",
       "      <td>8000</td>\n",
       "      <td>硕士</td>\n",
       "      <td>是</td>\n",
       "    </tr>\n",
       "    <tr>\n",
       "      <th>6</th>\n",
       "      <td>白领</td>\n",
       "      <td>28</td>\n",
       "      <td>女</td>\n",
       "      <td>13000</td>\n",
       "      <td>硕士</td>\n",
       "      <td>是</td>\n",
       "    </tr>\n",
       "    <tr>\n",
       "      <th>7</th>\n",
       "      <td>自由职业</td>\n",
       "      <td>21</td>\n",
       "      <td>男</td>\n",
       "      <td>4000</td>\n",
       "      <td>本科</td>\n",
       "      <td>否</td>\n",
       "    </tr>\n",
       "    <tr>\n",
       "      <th>8</th>\n",
       "      <td>自由职业</td>\n",
       "      <td>22</td>\n",
       "      <td>女</td>\n",
       "      <td>3200</td>\n",
       "      <td>初中</td>\n",
       "      <td>否</td>\n",
       "    </tr>\n",
       "    <tr>\n",
       "      <th>9</th>\n",
       "      <td>工人</td>\n",
       "      <td>33</td>\n",
       "      <td>男</td>\n",
       "      <td>3000</td>\n",
       "      <td>高中</td>\n",
       "      <td>否</td>\n",
       "    </tr>\n",
       "    <tr>\n",
       "      <th>10</th>\n",
       "      <td>工人</td>\n",
       "      <td>48</td>\n",
       "      <td>女</td>\n",
       "      <td>4200</td>\n",
       "      <td>初中</td>\n",
       "      <td>否</td>\n",
       "    </tr>\n",
       "  </tbody>\n",
       "</table>\n",
       "</div>"
      ],
      "text/plain": [
       "      职业  年龄 性别     收入  学历 是否贷款\n",
       "0   自由职业  28  男   5000  高中    是\n",
       "1     工人  36  女   5500  高中    否\n",
       "2     工人  42  男   2800  初中    是\n",
       "3     白领  45  女   3300  小学    是\n",
       "4     白领  25  男  10000  初中    是\n",
       "5     白领  32  女   8000  硕士    是\n",
       "6     白领  28  女  13000  硕士    是\n",
       "7   自由职业  21  男   4000  本科    否\n",
       "8   自由职业  22  女   3200  初中    否\n",
       "9     工人  33  男   3000  高中    否\n",
       "10    工人  48  女   4200  初中    否"
      ]
     },
     "execution_count": 44,
     "metadata": {},
     "output_type": "execute_result"
    }
   ],
   "source": [
    "pdata"
   ]
  },
  {
   "cell_type": "code",
   "execution_count": 52,
   "metadata": {},
   "outputs": [
    {
     "data": {
      "text/html": [
       "<div>\n",
       "<style scoped>\n",
       "    .dataframe tbody tr th:only-of-type {\n",
       "        vertical-align: middle;\n",
       "    }\n",
       "\n",
       "    .dataframe tbody tr th {\n",
       "        vertical-align: top;\n",
       "    }\n",
       "\n",
       "    .dataframe thead th {\n",
       "        text-align: right;\n",
       "    }\n",
       "</style>\n",
       "<table border=\"1\" class=\"dataframe\">\n",
       "  <thead>\n",
       "    <tr style=\"text-align: right;\">\n",
       "      <th></th>\n",
       "      <th>职业</th>\n",
       "      <th>年龄</th>\n",
       "      <th>性别</th>\n",
       "      <th>收入</th>\n",
       "      <th>学历</th>\n",
       "      <th>是否贷款</th>\n",
       "    </tr>\n",
       "  </thead>\n",
       "  <tbody>\n",
       "    <tr>\n",
       "      <th>0</th>\n",
       "      <td>自由职业</td>\n",
       "      <td>28</td>\n",
       "      <td>男</td>\n",
       "      <td>&gt;=5000</td>\n",
       "      <td>高中</td>\n",
       "      <td>是</td>\n",
       "    </tr>\n",
       "    <tr>\n",
       "      <th>1</th>\n",
       "      <td>工人</td>\n",
       "      <td>36</td>\n",
       "      <td>女</td>\n",
       "      <td>&gt;=5000</td>\n",
       "      <td>高中</td>\n",
       "      <td>否</td>\n",
       "    </tr>\n",
       "    <tr>\n",
       "      <th>2</th>\n",
       "      <td>工人</td>\n",
       "      <td>42</td>\n",
       "      <td>男</td>\n",
       "      <td>&lt;5000</td>\n",
       "      <td>初中</td>\n",
       "      <td>是</td>\n",
       "    </tr>\n",
       "    <tr>\n",
       "      <th>3</th>\n",
       "      <td>白领</td>\n",
       "      <td>45</td>\n",
       "      <td>女</td>\n",
       "      <td>&lt;5000</td>\n",
       "      <td>小学</td>\n",
       "      <td>是</td>\n",
       "    </tr>\n",
       "    <tr>\n",
       "      <th>4</th>\n",
       "      <td>白领</td>\n",
       "      <td>25</td>\n",
       "      <td>男</td>\n",
       "      <td>&gt;=5000</td>\n",
       "      <td>初中</td>\n",
       "      <td>是</td>\n",
       "    </tr>\n",
       "    <tr>\n",
       "      <th>5</th>\n",
       "      <td>白领</td>\n",
       "      <td>32</td>\n",
       "      <td>女</td>\n",
       "      <td>&gt;=5000</td>\n",
       "      <td>硕士</td>\n",
       "      <td>是</td>\n",
       "    </tr>\n",
       "    <tr>\n",
       "      <th>6</th>\n",
       "      <td>白领</td>\n",
       "      <td>28</td>\n",
       "      <td>女</td>\n",
       "      <td>&gt;=5000</td>\n",
       "      <td>硕士</td>\n",
       "      <td>是</td>\n",
       "    </tr>\n",
       "    <tr>\n",
       "      <th>7</th>\n",
       "      <td>自由职业</td>\n",
       "      <td>21</td>\n",
       "      <td>男</td>\n",
       "      <td>&lt;5000</td>\n",
       "      <td>本科</td>\n",
       "      <td>否</td>\n",
       "    </tr>\n",
       "    <tr>\n",
       "      <th>8</th>\n",
       "      <td>自由职业</td>\n",
       "      <td>22</td>\n",
       "      <td>女</td>\n",
       "      <td>&lt;5000</td>\n",
       "      <td>初中</td>\n",
       "      <td>否</td>\n",
       "    </tr>\n",
       "    <tr>\n",
       "      <th>9</th>\n",
       "      <td>工人</td>\n",
       "      <td>33</td>\n",
       "      <td>男</td>\n",
       "      <td>&lt;5000</td>\n",
       "      <td>高中</td>\n",
       "      <td>否</td>\n",
       "    </tr>\n",
       "    <tr>\n",
       "      <th>10</th>\n",
       "      <td>工人</td>\n",
       "      <td>48</td>\n",
       "      <td>女</td>\n",
       "      <td>&lt;5000</td>\n",
       "      <td>初中</td>\n",
       "      <td>否</td>\n",
       "    </tr>\n",
       "  </tbody>\n",
       "</table>\n",
       "</div>"
      ],
      "text/plain": [
       "      职业  年龄 性别      收入  学历 是否贷款\n",
       "0   自由职业  28  男  >=5000  高中    是\n",
       "1     工人  36  女  >=5000  高中    否\n",
       "2     工人  42  男   <5000  初中    是\n",
       "3     白领  45  女   <5000  小学    是\n",
       "4     白领  25  男  >=5000  初中    是\n",
       "5     白领  32  女  >=5000  硕士    是\n",
       "6     白领  28  女  >=5000  硕士    是\n",
       "7   自由职业  21  男   <5000  本科    否\n",
       "8   自由职业  22  女   <5000  初中    否\n",
       "9     工人  33  男   <5000  高中    否\n",
       "10    工人  48  女   <5000  初中    否"
      ]
     },
     "execution_count": 52,
     "metadata": {},
     "output_type": "execute_result"
    }
   ],
   "source": [
    "datasets = pdata.copy()\n",
    "datasets['收入'] = datasets['收入'].apply(lambda x : '>=5000' if x >= 5000 else '<5000')\n",
    "datasets"
   ]
  },
  {
   "cell_type": "markdown",
   "metadata": {},
   "source": [
    "---\n",
    "### 2、特征选择"
   ]
  },
  {
   "cell_type": "code",
   "execution_count": 99,
   "metadata": {},
   "outputs": [],
   "source": [
    "# 计算信息熵\n",
    "def calc_ent(datasets):\n",
    "    data_length = len(datasets)\n",
    "    label_count = {}\n",
    "    # 遍历每一个样本，累计每一类样本的个数。\n",
    "    for i in range(data_length):\n",
    "        label = datasets[i][-1]\n",
    "        if label not in label_count:\n",
    "            label_count[label] = 0\n",
    "        label_count[label] += 1\n",
    "    # 对于每一类标签，计算p*log(p)\n",
    "    ent = -sum([(p / data_length) * log(p / data_length, 2)\n",
    "                for p in label_count.values()])\n",
    "    return ent\n",
    "\n",
    "# 计算条件熵\n",
    "def cond_ent(datasets, feat_idx=0):\n",
    "    data_length = len(datasets)\n",
    "    feature_sets = {}\n",
    "    # 分配特征每个值的标签的分布。\n",
    "    for i in range(data_length):\n",
    "        feature = datasets[i][feat_idx]\n",
    "        if feature not in feature_sets:\n",
    "            feature_sets[feature] = []\n",
    "        feature_sets[feature].append(datasets[i])\n",
    "    # 计算条件熵：对于特征每个值，求熵，再求和\n",
    "    cond_ent = sum(\n",
    "        [(len(p) / data_length) * calc_ent(p) for p in feature_sets.values()])\n",
    "    return cond_ent\n",
    "\n",
    "# 计算信息增益\n",
    "def info_gain(ent, cond_ent):\n",
    "    return ent - cond_ent\n",
    "\n",
    "\n",
    "def info_gain_train(datasets, columns):\n",
    "    count = len(datasets[0]) - 1\n",
    "    ent = calc_ent(datasets)\n",
    "    info_gain_li = []\n",
    "    for c in range(count):\n",
    "        c_info_gain = info_gain(ent, cond_ent(datasets, feat_idx=c))\n",
    "        info_gain_li.append((c, c_info_gain))\n",
    "        print('特征({}) - info_gain - {:.3f}'.format(columns[c], c_info_gain))\n",
    "    # 选择信息增益最大的特征\n",
    "    best_ = max(info_gain_li, key=lambda x: x[-1])\n",
    "    return '特征({})的信息增益最大，选择做为根节点决策特征'.format(columns[best_[0]])"
   ]
  },
  {
   "cell_type": "code",
   "execution_count": 100,
   "metadata": {},
   "outputs": [
    {
     "name": "stdout",
     "output_type": "stream",
     "text": [
      "特征(性别) - info_gain - 0.007\n",
      "特征(收入) - info_gain - 0.165\n"
     ]
    },
    {
     "data": {
      "text/plain": [
       "'特征(收入)的信息增益最大，选择做为根节点决策特征'"
      ]
     },
     "execution_count": 100,
     "metadata": {},
     "output_type": "execute_result"
    }
   ],
   "source": [
    "columns = ['性别','收入','是否贷款']\n",
    "min_datasets = datasets.loc[:,columns]\n",
    "info_gain_train(np.array(min_datasets),columns)"
   ]
  },
  {
   "cell_type": "code",
   "execution_count": 101,
   "metadata": {},
   "outputs": [
    {
     "name": "stdout",
     "output_type": "stream",
     "text": [
      "   性别     收入 是否贷款\n",
      "2   男  <5000    是\n",
      "3   女  <5000    是\n",
      "7   男  <5000    否\n",
      "8   女  <5000    否\n",
      "9   男  <5000    否\n",
      "10  女  <5000    否\n",
      "------------------------------\n",
      "  性别      收入 是否贷款\n",
      "0  男  >=5000    是\n",
      "1  女  >=5000    否\n",
      "4  男  >=5000    是\n",
      "5  女  >=5000    是\n",
      "6  女  >=5000    是\n"
     ]
    }
   ],
   "source": [
    "data_split1 = min_datasets.iloc[[2, 3, 7, 8, 9, 10]]\n",
    "data_split2 = min_datasets.iloc[[0, 1, 4, 5, 6]]\n",
    "print(data_split1)\n",
    "print(\"-\"*30)\n",
    "print(data_split2)"
   ]
  },
  {
   "cell_type": "code",
   "execution_count": 102,
   "metadata": {},
   "outputs": [
    {
     "name": "stdout",
     "output_type": "stream",
     "text": [
      "特征(性别) - info_gain - 0.000\n",
      "特征(收入) - info_gain - 0.000\n"
     ]
    },
    {
     "data": {
      "text/plain": [
       "'特征(性别)的信息增益最大，选择做为根节点决策特征'"
      ]
     },
     "execution_count": 102,
     "metadata": {},
     "output_type": "execute_result"
    }
   ],
   "source": [
    "info_gain_train(np.array(data_split1),columns)"
   ]
  },
  {
   "cell_type": "code",
   "execution_count": 103,
   "metadata": {},
   "outputs": [
    {
     "name": "stdout",
     "output_type": "stream",
     "text": [
      "特征(性别) - info_gain - 0.171\n",
      "特征(收入) - info_gain - 0.000\n"
     ]
    },
    {
     "data": {
      "text/plain": [
       "0.6931471805599453"
      ]
     },
     "execution_count": 103,
     "metadata": {},
     "output_type": "execute_result"
    }
   ],
   "source": [
    "info_gain_train(np.array(data_split2),columns)\n",
    "np.log(2)"
   ]
  },
  {
   "cell_type": "markdown",
   "metadata": {
    "collapsed": true
   },
   "source": [
    "---\n",
    "\n",
    "### 3、生成决策树"
   ]
  },
  {
   "cell_type": "code",
   "execution_count": 59,
   "metadata": {},
   "outputs": [],
   "source": [
    "# 定义节点类 二叉树\n",
    "class Node:\n",
    "    def __init__(self, root=True, label=None, feature_name=None, feature=None):\n",
    "        self.root = root\n",
    "        self.label = label\n",
    "        self.feature_name = feature_name\n",
    "        self.feature = feature\n",
    "        self.tree = {}\n",
    "        self.result = {\n",
    "            'label:': self.label,\n",
    "            'feature': self.feature,\n",
    "            'tree': self.tree\n",
    "        }\n",
    "\n",
    "    def __repr__(self):\n",
    "        return '{}'.format(self.result)\n",
    "\n",
    "    def add_node(self, val, node):\n",
    "        self.tree[val] = node\n",
    "\n",
    "    def predict(self, features):\n",
    "        if self.root is True:\n",
    "            return self.label\n",
    "        return self.tree[features[self.feature]].predict(features)\n",
    "\n",
    "\n",
    "class DTree:\n",
    "    def __init__(self, epsilon=0):\n",
    "        self.epsilon = epsilon\n",
    "        self._tree = {}\n",
    "\n",
    "    # 熵\n",
    "    @staticmethod\n",
    "    def calc_ent(datasets):\n",
    "        data_length = len(datasets)\n",
    "        label_count = {}\n",
    "        for i in range(data_length):\n",
    "            label = datasets[i][-1]\n",
    "            if label not in label_count:\n",
    "                label_count[label] = 0\n",
    "            label_count[label] += 1\n",
    "        ent = -sum([(p / data_length) * log(p / data_length, 2)\n",
    "                    for p in label_count.values()])\n",
    "        return ent\n",
    "\n",
    "    # 经验条件熵\n",
    "    def cond_ent(self, datasets, axis=0):\n",
    "        data_length = len(datasets)\n",
    "        feature_sets = {}\n",
    "        for i in range(data_length):\n",
    "            feature = datasets[i][axis]\n",
    "            if feature not in feature_sets:\n",
    "                feature_sets[feature] = []\n",
    "            feature_sets[feature].append(datasets[i])\n",
    "        cond_ent = sum([(len(p) / data_length) * self.calc_ent(p)\n",
    "                        for p in feature_sets.values()])\n",
    "        return cond_ent\n",
    "\n",
    "    # 信息增益\n",
    "    @staticmethod\n",
    "    def info_gain(ent, cond_ent):\n",
    "        return ent - cond_ent\n",
    "\n",
    "    def info_gain_train(self, datasets):\n",
    "        count = len(datasets[0]) - 1\n",
    "        ent = self.calc_ent(datasets)\n",
    "        best_feature = []\n",
    "        for c in range(count):\n",
    "            c_info_gain = self.info_gain(ent, self.cond_ent(datasets, axis=c))\n",
    "            best_feature.append((c, c_info_gain))\n",
    "        # 比较大小\n",
    "        best_ = max(best_feature, key=lambda x: x[-1])\n",
    "        return best_\n",
    "\n",
    "    def train(self, train_data):\n",
    "        \"\"\"\n",
    "        input:数据集D(DataFrame格式)，特征集A，阈值eta\n",
    "        output:决策树T\n",
    "        \"\"\"\n",
    "        _, y_train, features = train_data.iloc[:, :-1], train_data.iloc[:,-1], train_data.columns[:-1]\n",
    "        # 1,若D中实例属于同一类Ck，则T为单节点树，并将类Ck作为结点的类标记，返回T\n",
    "        if len(y_train.value_counts()) == 1:\n",
    "            return Node(root=True, label=y_train.iloc[0])\n",
    "\n",
    "        # 2, 若A为空，则T为单节点树，将D中实例树最大的类Ck作为该节点的类标记，返回T\n",
    "        if len(features) == 0:\n",
    "            return Node(\n",
    "                root=True,\n",
    "                label=y_train.value_counts().sort_values(\n",
    "                    ascending=False).index[0])\n",
    "\n",
    "        # 3,计算最大信息增益 同5.1,Ag为信息增益最大的特征\n",
    "        max_feature, max_info_gain = self.info_gain_train(np.array(train_data))\n",
    "        max_feature_name = features[max_feature]\n",
    "\n",
    "        # 4,Ag的信息增益小于阈值eta,则置T为单节点树，并将D中是实例数最大的类Ck作为该节点的类标记，返回T\n",
    "        if max_info_gain < self.epsilon:\n",
    "            return Node(\n",
    "                root=True,\n",
    "                label=y_train.value_counts().sort_values(\n",
    "                    ascending=False).index[0])\n",
    "\n",
    "        # 5,构建Ag子集\n",
    "        node_tree = Node(\n",
    "            root=False, feature_name=max_feature_name, feature=max_feature)\n",
    "\n",
    "        feature_list = train_data[max_feature_name].value_counts().index\n",
    "        for f in feature_list:\n",
    "            sub_train_df = train_data.loc[train_data[max_feature_name] ==\n",
    "                                          f].drop([max_feature_name], axis=1)\n",
    "\n",
    "            # 6, 递归生成树\n",
    "            sub_tree = self.train(sub_train_df)\n",
    "            node_tree.add_node(f, sub_tree)\n",
    "\n",
    "        return node_tree\n",
    "\n",
    "    def fit(self, train_data):\n",
    "        self._tree = self.train(train_data)\n",
    "        return self._tree\n",
    "\n",
    "    def predict(self, X_test):\n",
    "        return self._tree.predict(X_test)"
   ]
  },
  {
   "cell_type": "code",
   "execution_count": 64,
   "metadata": {},
   "outputs": [
    {
     "data": {
      "text/plain": [
       "{'feature': 1,\n",
       " 'label:': None,\n",
       " 'tree': {'<5000': {'label:': None, 'feature': 0, 'tree': {'女': {'label:': '否', 'feature': None, 'tree': {}}, '男': {'label:': '否', 'feature': None, 'tree': {}}}},\n",
       "  '>=5000': {'label:': None, 'feature': 0, 'tree': {'女': {'label:': '是', 'feature': None, 'tree': {}}, '男': {'label:': '是', 'feature': None, 'tree': {}}}}}}"
      ]
     },
     "execution_count": 64,
     "metadata": {},
     "output_type": "execute_result"
    }
   ],
   "source": [
    "dt = DTree()\n",
    "tree = dt.fit(datasets.loc[:,['性别','收入','是否贷款']])\n",
    "tree.result"
   ]
  },
  {
   "cell_type": "code",
   "execution_count": 65,
   "metadata": {},
   "outputs": [
    {
     "data": {
      "text/plain": [
       "'否'"
      ]
     },
     "execution_count": 65,
     "metadata": {},
     "output_type": "execute_result"
    }
   ],
   "source": [
    "dt.predict(['女', '<5000', '硕士'])"
   ]
  },
  {
   "cell_type": "code",
   "execution_count": 67,
   "metadata": {},
   "outputs": [
    {
     "data": {
      "text/plain": [
       "'是'"
      ]
     },
     "execution_count": 67,
     "metadata": {},
     "output_type": "execute_result"
    }
   ],
   "source": [
    "dt.predict(['女', '>=5000', '硕士'])"
   ]
  },
  {
   "cell_type": "markdown",
   "metadata": {},
   "source": [
    "#### 3.1 连续型数据"
   ]
  },
  {
   "cell_type": "code",
   "execution_count": 110,
   "metadata": {},
   "outputs": [
    {
     "name": "stdout",
     "output_type": "stream",
     "text": [
      "特征(性别) - info_gain - 0.007\n",
      "特征(收入) - info_gain - 0.183\n"
     ]
    },
    {
     "data": {
      "text/plain": [
       "'特征(收入)的信息增益最大，选择做为根节点决策特征'"
      ]
     },
     "execution_count": 110,
     "metadata": {},
     "output_type": "execute_result"
    }
   ],
   "source": [
    "datasets_test = pdata.copy()\n",
    "datasets_test['收入'] = datasets_test['收入'].apply(lambda x : '>=10000' if x >= 10000 else '<10000')\n",
    "columns = ['性别','收入','是否贷款']\n",
    "datasets_test = datasets_test.loc[:,columns]\n",
    "info_gain_train(np.array(datasets_test),columns)"
   ]
  },
  {
   "cell_type": "markdown",
   "metadata": {},
   "source": [
    "#### 3.2 如何选择分裂的属性"
   ]
  },
  {
   "cell_type": "code",
   "execution_count": 111,
   "metadata": {},
   "outputs": [
    {
     "name": "stdout",
     "output_type": "stream",
     "text": [
      "特征(职业) - info_gain - 0.449\n",
      "特征(年龄) - info_gain - 0.994\n",
      "特征(性别) - info_gain - 0.007\n",
      "特征(收入) - info_gain - 0.183\n"
     ]
    },
    {
     "data": {
      "text/plain": [
       "'特征(年龄)的信息增益最大，选择做为根节点决策特征'"
      ]
     },
     "execution_count": 111,
     "metadata": {},
     "output_type": "execute_result"
    }
   ],
   "source": [
    "#信息增益倾向于选择分裂点多的属性，容易导致过拟合\n",
    "datasets_test = pdata.copy()\n",
    "datasets_test['收入'] = datasets_test['收入'].apply(lambda x : '>=10000' if x >= 10000 else '<10000')\n",
    "columns = ['职业','年龄','性别','收入','是否贷款']\n",
    "datasets_test = datasets_test.loc[:,columns]\n",
    "info_gain_train(np.array(datasets_test),columns)"
   ]
  },
  {
   "cell_type": "markdown",
   "metadata": {},
   "source": [
    "#### 计算信息增益率\n",
    "\n",
    "信息增益比 = 惩罚参数 * 信息增益\n",
    "\n",
    "其中的$H_A(D)$，对于样本集合D，将当前特征A作为随机变量（取值是特征A的各个特征值），求得的经验熵。\n",
    "\n",
    "$$H_A(D)=-\\sum_{i=1}^{N} \\frac{\\left|C_{i}\\right|}{|D|} \\log _{2} \\frac{\\left|C_{i}\\right|}{|D|}$$\n",
    "\n",
    "信息增益比本质： 是在信息增益的基础之上乘上一个惩罚参数。特征个数较多时，惩罚参数较小；特征个数较少时，惩罚参数较大。"
   ]
  },
  {
   "cell_type": "code",
   "execution_count": 134,
   "metadata": {},
   "outputs": [],
   "source": [
    "# 计算信息增益率\n",
    "\n",
    "# 计算信息熵\n",
    "def calc_ent(datasets):\n",
    "    data_length = len(datasets)\n",
    "    label_count = {}\n",
    "    # 遍历每一个样本，累计每一类样本的个数。\n",
    "    for i in range(data_length):\n",
    "        label = datasets[i][-1]\n",
    "        if label not in label_count:\n",
    "            label_count[label] = 0\n",
    "        label_count[label] += 1\n",
    "    # 对于每一类标签，计算p*log(p)\n",
    "    ent = -sum([(p / data_length) * log(p / data_length, 2)\n",
    "                for p in label_count.values()])\n",
    "    return ent\n",
    "\n",
    "# 计算条件熵\n",
    "def cond_ent(datasets, feat_idx=0):\n",
    "    data_length = len(datasets)\n",
    "    feature_sets = {}\n",
    "    # 分配特征每个值的标签的分布。\n",
    "    for i in range(data_length):\n",
    "        feature = datasets[i][feat_idx]\n",
    "        if feature not in feature_sets:\n",
    "            feature_sets[feature] = []\n",
    "        feature_sets[feature].append(datasets[i])\n",
    "    # 计算条件熵：对于特征每个值，求熵，再求和\n",
    "    cond_ent = sum(\n",
    "        [(len(p) / data_length) * calc_ent(p) for p in feature_sets.values()])\n",
    "    return cond_ent\n",
    "\n",
    "# 计算信息惩罚因子\n",
    "def calc_penalty(datasets, feat_idx=0):\n",
    "    data_length = len(datasets)\n",
    "    feature_sets = {}\n",
    "    for i in range(data_length):\n",
    "        feature = datasets[i][feat_idx]\n",
    "        if feature not in feature_sets:\n",
    "            feature_sets[feature] = 1\n",
    "        feature_sets[feature] += 1\n",
    "    penalty = -1/sum([(p / data_length) * log(p / data_length, 2)\n",
    "                for p in feature_sets.values()])\n",
    "    #print(penalty)\n",
    "    return penalty\n",
    "\n",
    "# 计算信息增益\n",
    "def info_gain(ent, cond_ent):\n",
    "    return ent - cond_ent\n",
    "\n",
    "\n",
    "def info_gain_ratio_train(datasets, columns):\n",
    "    count = len(datasets[0]) - 1\n",
    "    ent = calc_ent(datasets)\n",
    "    info_gain_li = []\n",
    "    for c in range(count):\n",
    "        c_info_gain = info_gain(ent, cond_ent(datasets, feat_idx=c))*calc_penalty(datasets, feat_idx=c)\n",
    "        info_gain_li.append((c, c_info_gain))\n",
    "        print('特征({}) - info_gain_ratio - {:.3f}'.format(columns[c], c_info_gain))\n",
    "    # 选择信息增益最大的特征\n",
    "    best_ = max(info_gain_li, key=lambda x: x[-1])\n",
    "    return '特征({})的信息增益率最大，选择做为根节点决策特征'.format(columns[best_[0]])"
   ]
  },
  {
   "cell_type": "code",
   "execution_count": 135,
   "metadata": {},
   "outputs": [
    {
     "name": "stdout",
     "output_type": "stream",
     "text": [
      "特征(职业) - info_gain_ratio - 0.287\n",
      "特征(年龄) - info_gain_ratio - 0.219\n",
      "特征(性别) - info_gain_ratio - 0.008\n",
      "特征(收入) - info_gain_ratio - 0.288\n"
     ]
    },
    {
     "data": {
      "text/plain": [
       "'特征(收入)的信息增益率最大，选择做为根节点决策特征'"
      ]
     },
     "execution_count": 135,
     "metadata": {},
     "output_type": "execute_result"
    }
   ],
   "source": [
    "#信息增益率\n",
    "datasets_test = pdata.copy()\n",
    "datasets_test['收入'] = datasets_test['收入'].apply(lambda x : '>=10000' if x >= 10000 else '<10000')\n",
    "columns = ['职业','年龄','性别','收入','是否贷款']\n",
    "datasets_test = datasets_test.loc[:,columns]\n",
    "info_gain_ratio_train(np.array(datasets_test),columns)"
   ]
  },
  {
   "attachments": {},
   "cell_type": "markdown",
   "metadata": {},
   "source": [
    "#### 3.3 什么时候停止分裂"
   ]
  },
  {
   "cell_type": "code",
   "execution_count": 133,
   "metadata": {},
   "outputs": [
    {
     "data": {
      "text/plain": [
       "{'feature': 1,\n",
       " 'label:': None,\n",
       " 'tree': {'<5000': {'label:': None, 'feature': 0, 'tree': {'女': {'label:': '否', 'feature': None, 'tree': {}}, '男': {'label:': '否', 'feature': None, 'tree': {}}}},\n",
       "  '>=5000': {'label:': None, 'feature': 0, 'tree': {'女': {'label:': '是', 'feature': None, 'tree': {}}, '男': {'label:': '是', 'feature': None, 'tree': {}}}}}}"
      ]
     },
     "execution_count": 133,
     "metadata": {},
     "output_type": "execute_result"
    }
   ],
   "source": [
    "# 所有特征已经使用完毕\n",
    "dt = DTree()\n",
    "tree = dt.fit(datasets.loc[:,['性别','收入','是否贷款']])\n",
    "tree.result"
   ]
  },
  {
   "cell_type": "code",
   "execution_count": 132,
   "metadata": {},
   "outputs": [
    {
     "data": {
      "text/plain": [
       "{'feature': 1,\n",
       " 'label:': None,\n",
       " 'tree': {'<5000': {'label:': '否', 'feature': None, 'tree': {}},\n",
       "  '>=5000': {'label:': None, 'feature': 0, 'tree': {'女': {'label:': '是', 'feature': None, 'tree': {}}, '男': {'label:': '是', 'feature': None, 'tree': {}}}}}}"
      ]
     },
     "execution_count": 132,
     "metadata": {},
     "output_type": "execute_result"
    }
   ],
   "source": [
    "# 熵或者基尼值小于阀值\n",
    "dt = DTree(epsilon=0.01)\n",
    "tree = dt.fit(datasets.loc[:,['性别','收入','是否贷款']])\n",
    "tree.result"
   ]
  },
  {
   "cell_type": "markdown",
   "metadata": {},
   "source": [
    "## scikit-learn实例：课件例子"
   ]
  },
  {
   "cell_type": "code",
   "execution_count": 115,
   "metadata": {},
   "outputs": [
    {
     "name": "stdout",
     "output_type": "stream",
     "text": [
      "    性别  收入\n",
      "0    1   1\n",
      "1    0   1\n",
      "2    1   0\n",
      "3    0   0\n",
      "4    1   1\n",
      "5    0   1\n",
      "6    0   1\n",
      "7    1   0\n",
      "8    0   0\n",
      "9    1   0\n",
      "10   0   0\n",
      "0     1\n",
      "1     0\n",
      "2     1\n",
      "3     1\n",
      "4     1\n",
      "5     1\n",
      "6     1\n",
      "7     0\n",
      "8     0\n",
      "9     0\n",
      "10    0\n",
      "Name: 是否贷款, dtype: int64\n"
     ]
    }
   ],
   "source": [
    "X = pdata.loc[:,['性别','收入']]\n",
    "X['性别'] = X['性别'].apply(lambda x : 1 if x == '男' else 0)\n",
    "X['收入'] = X['收入'].apply(lambda x : 1 if x >= 5000 else 0)\n",
    "y = pdata.iloc[:,-1]\n",
    "y = y.apply(lambda x : 1 if x == '是' else 0)\n",
    "print(X)\n",
    "print(y)"
   ]
  },
  {
   "cell_type": "code",
   "execution_count": 116,
   "metadata": {},
   "outputs": [],
   "source": [
    "from sklearn.tree import DecisionTreeClassifier\n",
    "from sklearn.tree import export_graphviz\n",
    "import graphviz"
   ]
  },
  {
   "cell_type": "code",
   "execution_count": 117,
   "metadata": {},
   "outputs": [
    {
     "name": "stdout",
     "output_type": "stream",
     "text": [
      "[0.32017179 0.67982821]\n"
     ]
    }
   ],
   "source": [
    "clf = DecisionTreeClassifier(criterion='entropy')\n",
    "clf.fit(X, y)\n",
    "print(clf.feature_importances_)"
   ]
  },
  {
   "cell_type": "code",
   "execution_count": 118,
   "metadata": {},
   "outputs": [
    {
     "data": {
      "image/svg+xml": [
       "<?xml version=\"1.0\" encoding=\"UTF-8\" standalone=\"no\"?>\r\n",
       "<!DOCTYPE svg PUBLIC \"-//W3C//DTD SVG 1.1//EN\"\r\n",
       " \"http://www.w3.org/Graphics/SVG/1.1/DTD/svg11.dtd\">\r\n",
       "<!-- Generated by graphviz version 2.38.0 (20140413.2041)\r\n",
       " -->\r\n",
       "<!-- Title: Tree Pages: 1 -->\r\n",
       "<svg width=\"472pt\" height=\"269pt\"\r\n",
       " viewBox=\"0.00 0.00 472.00 269.00\" xmlns=\"http://www.w3.org/2000/svg\" xmlns:xlink=\"http://www.w3.org/1999/xlink\">\r\n",
       "<g id=\"graph0\" class=\"graph\" transform=\"scale(1 1) rotate(0) translate(4 265)\">\r\n",
       "<title>Tree</title>\r\n",
       "<polygon fill=\"white\" stroke=\"none\" points=\"-4,4 -4,-265 468,-265 468,4 -4,4\"/>\r\n",
       "<!-- 0 -->\r\n",
       "<g id=\"node1\" class=\"node\"><title>0</title>\r\n",
       "<polygon fill=\"none\" stroke=\"black\" points=\"292,-261 186,-261 186,-193 292,-193 292,-261\"/>\r\n",
       "<text text-anchor=\"middle\" x=\"239\" y=\"-245.8\" font-family=\"Times New Roman,serif\" font-size=\"14.00\">X[1] &lt;= 0.5</text>\r\n",
       "<text text-anchor=\"middle\" x=\"239\" y=\"-230.8\" font-family=\"Times New Roman,serif\" font-size=\"14.00\">entropy = 0.994</text>\r\n",
       "<text text-anchor=\"middle\" x=\"239\" y=\"-215.8\" font-family=\"Times New Roman,serif\" font-size=\"14.00\">samples = 11</text>\r\n",
       "<text text-anchor=\"middle\" x=\"239\" y=\"-200.8\" font-family=\"Times New Roman,serif\" font-size=\"14.00\">value = [5, 6]</text>\r\n",
       "</g>\r\n",
       "<!-- 1 -->\r\n",
       "<g id=\"node2\" class=\"node\"><title>1</title>\r\n",
       "<polygon fill=\"none\" stroke=\"black\" points=\"230,-157 124,-157 124,-89 230,-89 230,-157\"/>\r\n",
       "<text text-anchor=\"middle\" x=\"177\" y=\"-141.8\" font-family=\"Times New Roman,serif\" font-size=\"14.00\">X[0] &lt;= 0.5</text>\r\n",
       "<text text-anchor=\"middle\" x=\"177\" y=\"-126.8\" font-family=\"Times New Roman,serif\" font-size=\"14.00\">entropy = 0.918</text>\r\n",
       "<text text-anchor=\"middle\" x=\"177\" y=\"-111.8\" font-family=\"Times New Roman,serif\" font-size=\"14.00\">samples = 6</text>\r\n",
       "<text text-anchor=\"middle\" x=\"177\" y=\"-96.8\" font-family=\"Times New Roman,serif\" font-size=\"14.00\">value = [4, 2]</text>\r\n",
       "</g>\r\n",
       "<!-- 0&#45;&gt;1 -->\r\n",
       "<g id=\"edge1\" class=\"edge\"><title>0&#45;&gt;1</title>\r\n",
       "<path fill=\"none\" stroke=\"black\" d=\"M218.87,-192.884C213.673,-184.332 208.008,-175.013 202.573,-166.072\"/>\r\n",
       "<polygon fill=\"black\" stroke=\"black\" points=\"205.426,-164.027 197.241,-157.299 199.444,-167.663 205.426,-164.027\"/>\r\n",
       "<text text-anchor=\"middle\" x=\"191.317\" y=\"-177.887\" font-family=\"Times New Roman,serif\" font-size=\"14.00\">True</text>\r\n",
       "</g>\r\n",
       "<!-- 4 -->\r\n",
       "<g id=\"node5\" class=\"node\"><title>4</title>\r\n",
       "<polygon fill=\"none\" stroke=\"black\" points=\"354,-157 248,-157 248,-89 354,-89 354,-157\"/>\r\n",
       "<text text-anchor=\"middle\" x=\"301\" y=\"-141.8\" font-family=\"Times New Roman,serif\" font-size=\"14.00\">X[0] &lt;= 0.5</text>\r\n",
       "<text text-anchor=\"middle\" x=\"301\" y=\"-126.8\" font-family=\"Times New Roman,serif\" font-size=\"14.00\">entropy = 0.722</text>\r\n",
       "<text text-anchor=\"middle\" x=\"301\" y=\"-111.8\" font-family=\"Times New Roman,serif\" font-size=\"14.00\">samples = 5</text>\r\n",
       "<text text-anchor=\"middle\" x=\"301\" y=\"-96.8\" font-family=\"Times New Roman,serif\" font-size=\"14.00\">value = [1, 4]</text>\r\n",
       "</g>\r\n",
       "<!-- 0&#45;&gt;4 -->\r\n",
       "<g id=\"edge4\" class=\"edge\"><title>0&#45;&gt;4</title>\r\n",
       "<path fill=\"none\" stroke=\"black\" d=\"M259.13,-192.884C264.327,-184.332 269.992,-175.013 275.427,-166.072\"/>\r\n",
       "<polygon fill=\"black\" stroke=\"black\" points=\"278.556,-167.663 280.759,-157.299 272.574,-164.027 278.556,-167.663\"/>\r\n",
       "<text text-anchor=\"middle\" x=\"286.683\" y=\"-177.887\" font-family=\"Times New Roman,serif\" font-size=\"14.00\">False</text>\r\n",
       "</g>\r\n",
       "<!-- 2 -->\r\n",
       "<g id=\"node3\" class=\"node\"><title>2</title>\r\n",
       "<polygon fill=\"none\" stroke=\"black\" points=\"106,-53 0,-53 0,-0 106,-0 106,-53\"/>\r\n",
       "<text text-anchor=\"middle\" x=\"53\" y=\"-37.8\" font-family=\"Times New Roman,serif\" font-size=\"14.00\">entropy = 0.918</text>\r\n",
       "<text text-anchor=\"middle\" x=\"53\" y=\"-22.8\" font-family=\"Times New Roman,serif\" font-size=\"14.00\">samples = 3</text>\r\n",
       "<text text-anchor=\"middle\" x=\"53\" y=\"-7.8\" font-family=\"Times New Roman,serif\" font-size=\"14.00\">value = [2, 1]</text>\r\n",
       "</g>\r\n",
       "<!-- 1&#45;&gt;2 -->\r\n",
       "<g id=\"edge2\" class=\"edge\"><title>1&#45;&gt;2</title>\r\n",
       "<path fill=\"none\" stroke=\"black\" d=\"M133.631,-88.9485C121.027,-79.3431 107.291,-68.8747 94.786,-59.345\"/>\r\n",
       "<polygon fill=\"black\" stroke=\"black\" points=\"96.846,-56.5144 86.7709,-53.2367 92.603,-62.0819 96.846,-56.5144\"/>\r\n",
       "</g>\r\n",
       "<!-- 3 -->\r\n",
       "<g id=\"node4\" class=\"node\"><title>3</title>\r\n",
       "<polygon fill=\"none\" stroke=\"black\" points=\"230,-53 124,-53 124,-0 230,-0 230,-53\"/>\r\n",
       "<text text-anchor=\"middle\" x=\"177\" y=\"-37.8\" font-family=\"Times New Roman,serif\" font-size=\"14.00\">entropy = 0.918</text>\r\n",
       "<text text-anchor=\"middle\" x=\"177\" y=\"-22.8\" font-family=\"Times New Roman,serif\" font-size=\"14.00\">samples = 3</text>\r\n",
       "<text text-anchor=\"middle\" x=\"177\" y=\"-7.8\" font-family=\"Times New Roman,serif\" font-size=\"14.00\">value = [2, 1]</text>\r\n",
       "</g>\r\n",
       "<!-- 1&#45;&gt;3 -->\r\n",
       "<g id=\"edge3\" class=\"edge\"><title>1&#45;&gt;3</title>\r\n",
       "<path fill=\"none\" stroke=\"black\" d=\"M177,-88.9485C177,-80.7153 177,-71.848 177,-63.4814\"/>\r\n",
       "<polygon fill=\"black\" stroke=\"black\" points=\"180.5,-63.2367 177,-53.2367 173.5,-63.2367 180.5,-63.2367\"/>\r\n",
       "</g>\r\n",
       "<!-- 5 -->\r\n",
       "<g id=\"node6\" class=\"node\"><title>5</title>\r\n",
       "<polygon fill=\"none\" stroke=\"black\" points=\"354,-53 248,-53 248,-0 354,-0 354,-53\"/>\r\n",
       "<text text-anchor=\"middle\" x=\"301\" y=\"-37.8\" font-family=\"Times New Roman,serif\" font-size=\"14.00\">entropy = 0.918</text>\r\n",
       "<text text-anchor=\"middle\" x=\"301\" y=\"-22.8\" font-family=\"Times New Roman,serif\" font-size=\"14.00\">samples = 3</text>\r\n",
       "<text text-anchor=\"middle\" x=\"301\" y=\"-7.8\" font-family=\"Times New Roman,serif\" font-size=\"14.00\">value = [1, 2]</text>\r\n",
       "</g>\r\n",
       "<!-- 4&#45;&gt;5 -->\r\n",
       "<g id=\"edge5\" class=\"edge\"><title>4&#45;&gt;5</title>\r\n",
       "<path fill=\"none\" stroke=\"black\" d=\"M301,-88.9485C301,-80.7153 301,-71.848 301,-63.4814\"/>\r\n",
       "<polygon fill=\"black\" stroke=\"black\" points=\"304.5,-63.2367 301,-53.2367 297.5,-63.2367 304.5,-63.2367\"/>\r\n",
       "</g>\r\n",
       "<!-- 6 -->\r\n",
       "<g id=\"node7\" class=\"node\"><title>6</title>\r\n",
       "<polygon fill=\"none\" stroke=\"black\" points=\"464,-53 372,-53 372,-0 464,-0 464,-53\"/>\r\n",
       "<text text-anchor=\"middle\" x=\"418\" y=\"-37.8\" font-family=\"Times New Roman,serif\" font-size=\"14.00\">entropy = 0.0</text>\r\n",
       "<text text-anchor=\"middle\" x=\"418\" y=\"-22.8\" font-family=\"Times New Roman,serif\" font-size=\"14.00\">samples = 2</text>\r\n",
       "<text text-anchor=\"middle\" x=\"418\" y=\"-7.8\" font-family=\"Times New Roman,serif\" font-size=\"14.00\">value = [0, 2]</text>\r\n",
       "</g>\r\n",
       "<!-- 4&#45;&gt;6 -->\r\n",
       "<g id=\"edge6\" class=\"edge\"><title>4&#45;&gt;6</title>\r\n",
       "<path fill=\"none\" stroke=\"black\" d=\"M341.921,-88.9485C353.7,-79.4346 366.527,-69.074 378.235,-59.6175\"/>\r\n",
       "<polygon fill=\"black\" stroke=\"black\" points=\"380.555,-62.2429 386.136,-53.2367 376.157,-56.7973 380.555,-62.2429\"/>\r\n",
       "</g>\r\n",
       "</g>\r\n",
       "</svg>\r\n"
      ],
      "text/plain": [
       "<graphviz.files.Source at 0x277215e97f0>"
      ]
     },
     "execution_count": 118,
     "metadata": {},
     "output_type": "execute_result"
    }
   ],
   "source": [
    "tree_pic = export_graphviz(clf, out_file=\"mytree.pdf\")\n",
    "with open('mytree.pdf') as f:\n",
    "    dot_graph = f.read()\n",
    "graphviz.Source(dot_graph)"
   ]
  },
  {
   "cell_type": "markdown",
   "metadata": {},
   "source": [
    "## scikit-learn实例：鸢尾花例子"
   ]
  },
  {
   "cell_type": "code",
   "execution_count": 21,
   "metadata": {},
   "outputs": [],
   "source": [
    "from sklearn.datasets import load_iris\n",
    "from sklearn.model_selection import train_test_split\n",
    "# data\n",
    "def create_data():\n",
    "    iris = load_iris()\n",
    "    df = pd.DataFrame(iris.data, columns=iris.feature_names)\n",
    "    df['label'] = iris.target\n",
    "    df.columns = [\n",
    "        'sepal length', 'sepal width', 'petal length', 'petal width', 'label'\n",
    "    ]\n",
    "    data = np.array(df.iloc[:100, [0, 1, -1]])\n",
    "    # print(data)\n",
    "    return data[:, :2], data[:, -1]\n",
    "\n",
    "\n",
    "X, y = create_data()\n",
    "X_train, X_test, y_train, y_test = train_test_split(X, y, test_size=0.3)"
   ]
  },
  {
   "cell_type": "code",
   "execution_count": 22,
   "metadata": {},
   "outputs": [],
   "source": [
    "from sklearn.tree import DecisionTreeClassifier\n",
    "from sklearn.tree import export_graphviz\n",
    "import graphviz"
   ]
  },
  {
   "cell_type": "code",
   "execution_count": 33,
   "metadata": {},
   "outputs": [
    {
     "data": {
      "text/plain": [
       "DecisionTreeClassifier(class_weight=None, criterion='gini', max_depth=None,\n",
       "            max_features=None, max_leaf_nodes=None,\n",
       "            min_impurity_decrease=0.0, min_impurity_split=None,\n",
       "            min_samples_leaf=1, min_samples_split=2,\n",
       "            min_weight_fraction_leaf=0.0, presort=False, random_state=None,\n",
       "            splitter='best')"
      ]
     },
     "execution_count": 33,
     "metadata": {},
     "output_type": "execute_result"
    }
   ],
   "source": [
    "clf = DecisionTreeClassifier()\n",
    "clf.fit(X_train, y_train,)"
   ]
  },
  {
   "cell_type": "code",
   "execution_count": 35,
   "metadata": {},
   "outputs": [
    {
     "data": {
      "text/plain": [
       "0.9666666666666667"
      ]
     },
     "execution_count": 35,
     "metadata": {},
     "output_type": "execute_result"
    }
   ],
   "source": [
    "clf.score(X_test, y_test)"
   ]
  },
  {
   "cell_type": "code",
   "execution_count": 36,
   "metadata": {},
   "outputs": [
    {
     "name": "stdout",
     "output_type": "stream",
     "text": [
      "[0.56950594 0.43049406]\n"
     ]
    }
   ],
   "source": [
    "tree_pic = export_graphviz(clf, out_file=\"mytree.pdf\")\n",
    "with open('mytree.pdf') as f:\n",
    "    dot_graph = f.read()"
   ]
  },
  {
   "cell_type": "code",
   "execution_count": 37,
   "metadata": {},
   "outputs": [
    {
     "data": {
      "image/svg+xml": [
       "<?xml version=\"1.0\" encoding=\"UTF-8\" standalone=\"no\"?>\r\n",
       "<!DOCTYPE svg PUBLIC \"-//W3C//DTD SVG 1.1//EN\"\r\n",
       " \"http://www.w3.org/Graphics/SVG/1.1/DTD/svg11.dtd\">\r\n",
       "<!-- Generated by graphviz version 2.38.0 (20140413.2041)\r\n",
       " -->\r\n",
       "<!-- Title: Tree Pages: 1 -->\r\n",
       "<svg width=\"441pt\" height=\"477pt\"\r\n",
       " viewBox=\"0.00 0.00 441.00 477.00\" xmlns=\"http://www.w3.org/2000/svg\" xmlns:xlink=\"http://www.w3.org/1999/xlink\">\r\n",
       "<g id=\"graph0\" class=\"graph\" transform=\"scale(1 1) rotate(0) translate(4 473)\">\r\n",
       "<title>Tree</title>\r\n",
       "<polygon fill=\"white\" stroke=\"none\" points=\"-4,4 -4,-473 437,-473 437,4 -4,4\"/>\r\n",
       "<!-- 0 -->\r\n",
       "<g id=\"node1\" class=\"node\"><title>0</title>\r\n",
       "<polygon fill=\"none\" stroke=\"black\" points=\"268.5,-469 164.5,-469 164.5,-401 268.5,-401 268.5,-469\"/>\r\n",
       "<text text-anchor=\"middle\" x=\"216.5\" y=\"-453.8\" font-family=\"Times New Roman,serif\" font-size=\"14.00\">X[0] &lt;= 5.45</text>\r\n",
       "<text text-anchor=\"middle\" x=\"216.5\" y=\"-438.8\" font-family=\"Times New Roman,serif\" font-size=\"14.00\">gini = 0.5</text>\r\n",
       "<text text-anchor=\"middle\" x=\"216.5\" y=\"-423.8\" font-family=\"Times New Roman,serif\" font-size=\"14.00\">samples = 70</text>\r\n",
       "<text text-anchor=\"middle\" x=\"216.5\" y=\"-408.8\" font-family=\"Times New Roman,serif\" font-size=\"14.00\">value = [34, 36]</text>\r\n",
       "</g>\r\n",
       "<!-- 1 -->\r\n",
       "<g id=\"node2\" class=\"node\"><title>1</title>\r\n",
       "<polygon fill=\"none\" stroke=\"black\" points=\"207.5,-365 109.5,-365 109.5,-297 207.5,-297 207.5,-365\"/>\r\n",
       "<text text-anchor=\"middle\" x=\"158.5\" y=\"-349.8\" font-family=\"Times New Roman,serif\" font-size=\"14.00\">X[1] &lt;= 2.8</text>\r\n",
       "<text text-anchor=\"middle\" x=\"158.5\" y=\"-334.8\" font-family=\"Times New Roman,serif\" font-size=\"14.00\">gini = 0.245</text>\r\n",
       "<text text-anchor=\"middle\" x=\"158.5\" y=\"-319.8\" font-family=\"Times New Roman,serif\" font-size=\"14.00\">samples = 35</text>\r\n",
       "<text text-anchor=\"middle\" x=\"158.5\" y=\"-304.8\" font-family=\"Times New Roman,serif\" font-size=\"14.00\">value = [30, 5]</text>\r\n",
       "</g>\r\n",
       "<!-- 0&#45;&gt;1 -->\r\n",
       "<g id=\"edge1\" class=\"edge\"><title>0&#45;&gt;1</title>\r\n",
       "<path fill=\"none\" stroke=\"black\" d=\"M197.669,-400.884C192.807,-392.332 187.508,-383.013 182.423,-374.072\"/>\r\n",
       "<polygon fill=\"black\" stroke=\"black\" points=\"185.421,-372.262 177.435,-365.299 179.335,-375.722 185.421,-372.262\"/>\r\n",
       "<text text-anchor=\"middle\" x=\"170.806\" y=\"-385.704\" font-family=\"Times New Roman,serif\" font-size=\"14.00\">True</text>\r\n",
       "</g>\r\n",
       "<!-- 8 -->\r\n",
       "<g id=\"node9\" class=\"node\"><title>8</title>\r\n",
       "<polygon fill=\"none\" stroke=\"black\" points=\"323.5,-365 225.5,-365 225.5,-297 323.5,-297 323.5,-365\"/>\r\n",
       "<text text-anchor=\"middle\" x=\"274.5\" y=\"-349.8\" font-family=\"Times New Roman,serif\" font-size=\"14.00\">X[1] &lt;= 3.4</text>\r\n",
       "<text text-anchor=\"middle\" x=\"274.5\" y=\"-334.8\" font-family=\"Times New Roman,serif\" font-size=\"14.00\">gini = 0.202</text>\r\n",
       "<text text-anchor=\"middle\" x=\"274.5\" y=\"-319.8\" font-family=\"Times New Roman,serif\" font-size=\"14.00\">samples = 35</text>\r\n",
       "<text text-anchor=\"middle\" x=\"274.5\" y=\"-304.8\" font-family=\"Times New Roman,serif\" font-size=\"14.00\">value = [4, 31]</text>\r\n",
       "</g>\r\n",
       "<!-- 0&#45;&gt;8 -->\r\n",
       "<g id=\"edge8\" class=\"edge\"><title>0&#45;&gt;8</title>\r\n",
       "<path fill=\"none\" stroke=\"black\" d=\"M235.331,-400.884C240.193,-392.332 245.492,-383.013 250.577,-374.072\"/>\r\n",
       "<polygon fill=\"black\" stroke=\"black\" points=\"253.665,-375.722 255.565,-365.299 247.579,-372.262 253.665,-375.722\"/>\r\n",
       "<text text-anchor=\"middle\" x=\"262.194\" y=\"-385.704\" font-family=\"Times New Roman,serif\" font-size=\"14.00\">False</text>\r\n",
       "</g>\r\n",
       "<!-- 2 -->\r\n",
       "<g id=\"node3\" class=\"node\"><title>2</title>\r\n",
       "<polygon fill=\"none\" stroke=\"black\" points=\"91,-253.5 0,-253.5 0,-200.5 91,-200.5 91,-253.5\"/>\r\n",
       "<text text-anchor=\"middle\" x=\"45.5\" y=\"-238.3\" font-family=\"Times New Roman,serif\" font-size=\"14.00\">gini = 0.0</text>\r\n",
       "<text text-anchor=\"middle\" x=\"45.5\" y=\"-223.3\" font-family=\"Times New Roman,serif\" font-size=\"14.00\">samples = 4</text>\r\n",
       "<text text-anchor=\"middle\" x=\"45.5\" y=\"-208.3\" font-family=\"Times New Roman,serif\" font-size=\"14.00\">value = [0, 4]</text>\r\n",
       "</g>\r\n",
       "<!-- 1&#45;&gt;2 -->\r\n",
       "<g id=\"edge2\" class=\"edge\"><title>1&#45;&gt;2</title>\r\n",
       "<path fill=\"none\" stroke=\"black\" d=\"M121.812,-296.884C108.897,-285.226 94.4009,-272.141 81.5398,-260.532\"/>\r\n",
       "<polygon fill=\"black\" stroke=\"black\" points=\"83.5404,-257.622 73.7721,-253.52 78.85,-262.819 83.5404,-257.622\"/>\r\n",
       "</g>\r\n",
       "<!-- 3 -->\r\n",
       "<g id=\"node4\" class=\"node\"><title>3</title>\r\n",
       "<polygon fill=\"none\" stroke=\"black\" points=\"207.5,-261 109.5,-261 109.5,-193 207.5,-193 207.5,-261\"/>\r\n",
       "<text text-anchor=\"middle\" x=\"158.5\" y=\"-245.8\" font-family=\"Times New Roman,serif\" font-size=\"14.00\">X[0] &lt;= 5.35</text>\r\n",
       "<text text-anchor=\"middle\" x=\"158.5\" y=\"-230.8\" font-family=\"Times New Roman,serif\" font-size=\"14.00\">gini = 0.062</text>\r\n",
       "<text text-anchor=\"middle\" x=\"158.5\" y=\"-215.8\" font-family=\"Times New Roman,serif\" font-size=\"14.00\">samples = 31</text>\r\n",
       "<text text-anchor=\"middle\" x=\"158.5\" y=\"-200.8\" font-family=\"Times New Roman,serif\" font-size=\"14.00\">value = [30, 1]</text>\r\n",
       "</g>\r\n",
       "<!-- 1&#45;&gt;3 -->\r\n",
       "<g id=\"edge3\" class=\"edge\"><title>1&#45;&gt;3</title>\r\n",
       "<path fill=\"none\" stroke=\"black\" d=\"M158.5,-296.884C158.5,-288.778 158.5,-279.982 158.5,-271.472\"/>\r\n",
       "<polygon fill=\"black\" stroke=\"black\" points=\"162,-271.299 158.5,-261.299 155,-271.299 162,-271.299\"/>\r\n",
       "</g>\r\n",
       "<!-- 4 -->\r\n",
       "<g id=\"node5\" class=\"node\"><title>4</title>\r\n",
       "<polygon fill=\"none\" stroke=\"black\" points=\"150.5,-149.5 52.5,-149.5 52.5,-96.5 150.5,-96.5 150.5,-149.5\"/>\r\n",
       "<text text-anchor=\"middle\" x=\"101.5\" y=\"-134.3\" font-family=\"Times New Roman,serif\" font-size=\"14.00\">gini = 0.0</text>\r\n",
       "<text text-anchor=\"middle\" x=\"101.5\" y=\"-119.3\" font-family=\"Times New Roman,serif\" font-size=\"14.00\">samples = 28</text>\r\n",
       "<text text-anchor=\"middle\" x=\"101.5\" y=\"-104.3\" font-family=\"Times New Roman,serif\" font-size=\"14.00\">value = [28, 0]</text>\r\n",
       "</g>\r\n",
       "<!-- 3&#45;&gt;4 -->\r\n",
       "<g id=\"edge4\" class=\"edge\"><title>3&#45;&gt;4</title>\r\n",
       "<path fill=\"none\" stroke=\"black\" d=\"M139.994,-192.884C133.848,-181.886 126.992,-169.617 120.789,-158.517\"/>\r\n",
       "<polygon fill=\"black\" stroke=\"black\" points=\"123.695,-156.542 115.761,-149.52 117.584,-159.957 123.695,-156.542\"/>\r\n",
       "</g>\r\n",
       "<!-- 5 -->\r\n",
       "<g id=\"node6\" class=\"node\"><title>5</title>\r\n",
       "<polygon fill=\"none\" stroke=\"black\" points=\"260,-157 169,-157 169,-89 260,-89 260,-157\"/>\r\n",
       "<text text-anchor=\"middle\" x=\"214.5\" y=\"-141.8\" font-family=\"Times New Roman,serif\" font-size=\"14.00\">X[1] &lt;= 3.2</text>\r\n",
       "<text text-anchor=\"middle\" x=\"214.5\" y=\"-126.8\" font-family=\"Times New Roman,serif\" font-size=\"14.00\">gini = 0.444</text>\r\n",
       "<text text-anchor=\"middle\" x=\"214.5\" y=\"-111.8\" font-family=\"Times New Roman,serif\" font-size=\"14.00\">samples = 3</text>\r\n",
       "<text text-anchor=\"middle\" x=\"214.5\" y=\"-96.8\" font-family=\"Times New Roman,serif\" font-size=\"14.00\">value = [2, 1]</text>\r\n",
       "</g>\r\n",
       "<!-- 3&#45;&gt;5 -->\r\n",
       "<g id=\"edge5\" class=\"edge\"><title>3&#45;&gt;5</title>\r\n",
       "<path fill=\"none\" stroke=\"black\" d=\"M176.682,-192.884C181.376,-184.332 186.493,-175.013 191.402,-166.072\"/>\r\n",
       "<polygon fill=\"black\" stroke=\"black\" points=\"194.473,-167.75 196.218,-157.299 188.337,-164.381 194.473,-167.75\"/>\r\n",
       "</g>\r\n",
       "<!-- 6 -->\r\n",
       "<g id=\"node7\" class=\"node\"><title>6</title>\r\n",
       "<polygon fill=\"none\" stroke=\"black\" points=\"205,-53 114,-53 114,-0 205,-0 205,-53\"/>\r\n",
       "<text text-anchor=\"middle\" x=\"159.5\" y=\"-37.8\" font-family=\"Times New Roman,serif\" font-size=\"14.00\">gini = 0.0</text>\r\n",
       "<text text-anchor=\"middle\" x=\"159.5\" y=\"-22.8\" font-family=\"Times New Roman,serif\" font-size=\"14.00\">samples = 1</text>\r\n",
       "<text text-anchor=\"middle\" x=\"159.5\" y=\"-7.8\" font-family=\"Times New Roman,serif\" font-size=\"14.00\">value = [0, 1]</text>\r\n",
       "</g>\r\n",
       "<!-- 5&#45;&gt;6 -->\r\n",
       "<g id=\"edge6\" class=\"edge\"><title>5&#45;&gt;6</title>\r\n",
       "<path fill=\"none\" stroke=\"black\" d=\"M195.264,-88.9485C190.206,-80.2579 184.736,-70.8608 179.633,-62.0917\"/>\r\n",
       "<polygon fill=\"black\" stroke=\"black\" points=\"182.534,-60.1189 174.479,-53.2367 176.484,-63.6401 182.534,-60.1189\"/>\r\n",
       "</g>\r\n",
       "<!-- 7 -->\r\n",
       "<g id=\"node8\" class=\"node\"><title>7</title>\r\n",
       "<polygon fill=\"none\" stroke=\"black\" points=\"314,-53 223,-53 223,-0 314,-0 314,-53\"/>\r\n",
       "<text text-anchor=\"middle\" x=\"268.5\" y=\"-37.8\" font-family=\"Times New Roman,serif\" font-size=\"14.00\">gini = 0.0</text>\r\n",
       "<text text-anchor=\"middle\" x=\"268.5\" y=\"-22.8\" font-family=\"Times New Roman,serif\" font-size=\"14.00\">samples = 2</text>\r\n",
       "<text text-anchor=\"middle\" x=\"268.5\" y=\"-7.8\" font-family=\"Times New Roman,serif\" font-size=\"14.00\">value = [2, 0]</text>\r\n",
       "</g>\r\n",
       "<!-- 5&#45;&gt;7 -->\r\n",
       "<g id=\"edge7\" class=\"edge\"><title>5&#45;&gt;7</title>\r\n",
       "<path fill=\"none\" stroke=\"black\" d=\"M233.387,-88.9485C238.353,-80.2579 243.722,-70.8608 248.733,-62.0917\"/>\r\n",
       "<polygon fill=\"black\" stroke=\"black\" points=\"251.871,-63.6557 253.793,-53.2367 245.793,-60.1826 251.871,-63.6557\"/>\r\n",
       "</g>\r\n",
       "<!-- 9 -->\r\n",
       "<g id=\"node10\" class=\"node\"><title>9</title>\r\n",
       "<polygon fill=\"none\" stroke=\"black\" points=\"323.5,-253.5 225.5,-253.5 225.5,-200.5 323.5,-200.5 323.5,-253.5\"/>\r\n",
       "<text text-anchor=\"middle\" x=\"274.5\" y=\"-238.3\" font-family=\"Times New Roman,serif\" font-size=\"14.00\">gini = 0.0</text>\r\n",
       "<text text-anchor=\"middle\" x=\"274.5\" y=\"-223.3\" font-family=\"Times New Roman,serif\" font-size=\"14.00\">samples = 31</text>\r\n",
       "<text text-anchor=\"middle\" x=\"274.5\" y=\"-208.3\" font-family=\"Times New Roman,serif\" font-size=\"14.00\">value = [0, 31]</text>\r\n",
       "</g>\r\n",
       "<!-- 8&#45;&gt;9 -->\r\n",
       "<g id=\"edge9\" class=\"edge\"><title>8&#45;&gt;9</title>\r\n",
       "<path fill=\"none\" stroke=\"black\" d=\"M274.5,-296.884C274.5,-286.326 274.5,-274.597 274.5,-263.854\"/>\r\n",
       "<polygon fill=\"black\" stroke=\"black\" points=\"278,-263.52 274.5,-253.52 271,-263.52 278,-263.52\"/>\r\n",
       "</g>\r\n",
       "<!-- 10 -->\r\n",
       "<g id=\"node11\" class=\"node\"><title>10</title>\r\n",
       "<polygon fill=\"none\" stroke=\"black\" points=\"433,-253.5 342,-253.5 342,-200.5 433,-200.5 433,-253.5\"/>\r\n",
       "<text text-anchor=\"middle\" x=\"387.5\" y=\"-238.3\" font-family=\"Times New Roman,serif\" font-size=\"14.00\">gini = 0.0</text>\r\n",
       "<text text-anchor=\"middle\" x=\"387.5\" y=\"-223.3\" font-family=\"Times New Roman,serif\" font-size=\"14.00\">samples = 4</text>\r\n",
       "<text text-anchor=\"middle\" x=\"387.5\" y=\"-208.3\" font-family=\"Times New Roman,serif\" font-size=\"14.00\">value = [4, 0]</text>\r\n",
       "</g>\r\n",
       "<!-- 8&#45;&gt;10 -->\r\n",
       "<g id=\"edge10\" class=\"edge\"><title>8&#45;&gt;10</title>\r\n",
       "<path fill=\"none\" stroke=\"black\" d=\"M311.188,-296.884C324.103,-285.226 338.599,-272.141 351.46,-260.532\"/>\r\n",
       "<polygon fill=\"black\" stroke=\"black\" points=\"354.15,-262.819 359.228,-253.52 349.46,-257.622 354.15,-262.819\"/>\r\n",
       "</g>\r\n",
       "</g>\r\n",
       "</svg>\r\n"
      ],
      "text/plain": [
       "<graphviz.files.Source at 0x1e720816d68>"
      ]
     },
     "execution_count": 37,
     "metadata": {},
     "output_type": "execute_result"
    }
   ],
   "source": [
    "graphviz.Source(dot_graph)"
   ]
  }
 ],
 "metadata": {
  "kernelspec": {
   "display_name": "Python 3",
   "language": "python",
   "name": "python3"
  },
  "language_info": {
   "codemirror_mode": {
    "name": "ipython",
    "version": 3
   },
   "file_extension": ".py",
   "mimetype": "text/x-python",
   "name": "python",
   "nbconvert_exporter": "python",
   "pygments_lexer": "ipython3",
   "version": "3.6.4"
  }
 },
 "nbformat": 4,
 "nbformat_minor": 2
}
